{
 "cells": [
  {
   "cell_type": "markdown",
   "metadata": {},
   "source": [
    "# What impacts the earning of the taxi drivers?"
   ]
  },
  {
   "cell_type": "code",
   "execution_count": null,
   "metadata": {},
   "outputs": [],
   "source": [
    "import pandas as pd\n",
    "import numpy as np\n",
    "import seaborn as sns\n",
    "import matplotlib.pyplot as plt\n",
    "\n",
    "# a nice way of filtering out deprecated warnings\n",
    "import warnings\n",
    "warnings.filterwarnings(\"ignore\")"
   ]
  },
  {
   "cell_type": "code",
   "execution_count": null,
   "metadata": {},
   "outputs": [],
   "source": [
    "# Read preprocessed trip data\n",
    "\n",
    "processed_yellow_01 = pd.read_feather(\"../preprocessed_data/yellow_tripdata_2018-01\")\n",
    "processed_yellow_02 = pd.read_feather(\"../preprocessed_data/yellow_tripdata_2018-02\")\n",
    "processed_yellow_03 = pd.read_feather(\"../preprocessed_data/yellow_tripdata_2018-03\")\n"
   ]
  },
  {
   "cell_type": "code",
   "execution_count": null,
   "metadata": {},
   "outputs": [],
   "source": [
    "# Append preprocessed trip data together and output\n",
    "\n",
    "processed_yellow_tripdata = processed_yellow_01.append(processed_yellow_02).append(processed_yellow_03)\n",
    "\n",
    "processed_yellow_tripdata = processed_yellow_tripdata.reset_index().drop('index', axis=1)\n",
    "\n",
    "processed_yellow_tripdata.to_feather(\"../preprocessed_data/yellow_tripdata_2018-1-2-3\")"
   ]
  },
  {
   "cell_type": "markdown",
   "metadata": {},
   "source": [
    "## Feature engineering"
   ]
  },
  {
   "cell_type": "code",
   "execution_count": null,
   "metadata": {},
   "outputs": [],
   "source": [
    "# Load preprocessed trip data\n",
    "\n",
    "processed_yellow_tripdata = pd.read_feather(\"../preprocessed_data/yellow_tripdata_2018-1-2-3\")\n",
    "\n",
    "processed_yellow_tripdata"
   ]
  },
  {
   "cell_type": "code",
   "execution_count": null,
   "metadata": {
    "scrolled": true
   },
   "outputs": [],
   "source": [
    "# Double check the null value\n",
    "\n",
    "processed_yellow_tripdata.isnull().sum()"
   ]
  },
  {
   "cell_type": "code",
   "execution_count": null,
   "metadata": {},
   "outputs": [],
   "source": [
    "# Remove inrelevant data\n",
    "\n",
    "yellow_tripdata = processed_yellow_tripdata.drop(['VendorID', 'store_and_fwd_flag', 'extra', 'mta_tax', 'tolls_amount', 'improvement_surcharge', 'congestion_surcharge', 'payment_type'], axis=1)\n",
    "yellow_tripdata"
   ]
  },
  {
   "cell_type": "code",
   "execution_count": null,
   "metadata": {},
   "outputs": [],
   "source": [
    "# Add pick-up date column for aggregating the data later\n",
    "\n",
    "yellow_tripdata['pickup_date'] = yellow_tripdata['tpep_pickup_datetime'].dt.normalize()"
   ]
  },
  {
   "cell_type": "code",
   "execution_count": null,
   "metadata": {},
   "outputs": [],
   "source": [
    "# Add day type column (whether weekday or weekend)\n",
    "\n",
    "yellow_tripdata['day'] = yellow_tripdata['pickup_date'].dt.dayofweek\n",
    "yellow_tripdata.loc[yellow_tripdata['day'] >= 6, 'day_type'] = 'Weekend'\n",
    "yellow_tripdata.loc[yellow_tripdata['day'] < 6, 'day_type'] = 'Weekday'\n",
    "yellow_tripdata = yellow_tripdata.drop('day', axis=1)\n",
    "yellow_tripdata['pickup_date'] = yellow_tripdata['pickup_date'].astype(str)\n"
   ]
  },
  {
   "cell_type": "code",
   "execution_count": null,
   "metadata": {},
   "outputs": [],
   "source": [
    "# Add tip ratio to the total amount\n",
    "\n",
    "yellow_tripdata['tip_ratio'] = round(yellow_tripdata['tip_amount'] / yellow_tripdata['total_amount'], 2)\n"
   ]
  },
  {
   "cell_type": "code",
   "execution_count": null,
   "metadata": {},
   "outputs": [],
   "source": [
    "# Add fare/hour column\n",
    "\n",
    "yellow_tripdata['fare/hour'] = round(yellow_tripdata['total_amount'] / yellow_tripdata['time_duration'] * 60, 2)\n"
   ]
  },
  {
   "cell_type": "code",
   "execution_count": null,
   "metadata": {
    "scrolled": true
   },
   "outputs": [],
   "source": [
    "# Add mile/hour column and filter unusually high speed\n",
    "\n",
    "yellow_tripdata['mile/hour'] = round(yellow_tripdata['trip_distance'] / yellow_tripdata['time_duration'] * 60, 2)\n"
   ]
  },
  {
   "cell_type": "code",
   "execution_count": null,
   "metadata": {},
   "outputs": [],
   "source": [
    "yellow_tripdata"
   ]
  },
  {
   "cell_type": "code",
   "execution_count": null,
   "metadata": {},
   "outputs": [],
   "source": [
    "yellow_tripdata = yellow_tripdata.reset_index().drop('index', axis=1)\n",
    "yellow_tripdata.to_feather(\"../preprocessed_data/yellow_tripdata_2018-1-2-3_fe\")"
   ]
  },
  {
   "cell_type": "code",
   "execution_count": null,
   "metadata": {},
   "outputs": [],
   "source": []
  },
  {
   "cell_type": "markdown",
   "metadata": {},
   "source": [
    "## Add external Climate data"
   ]
  },
  {
   "cell_type": "code",
   "execution_count": null,
   "metadata": {},
   "outputs": [],
   "source": [
    "yellow_tripdata_fe = pd.read_feather(\"../preprocessed_data/yellow_tripdata_2018-1-2-3_fe\")"
   ]
  },
  {
   "cell_type": "code",
   "execution_count": null,
   "metadata": {},
   "outputs": [],
   "source": [
    "weather = pd.read_feather(\"../preprocessed_data/processed_weather\")"
   ]
  },
  {
   "cell_type": "code",
   "execution_count": null,
   "metadata": {},
   "outputs": [],
   "source": [
    "yellow_tripdata_weather = pd.merge(yellow_tripdata_fe, weather, left_on='pickup_date', right_on='DATE').drop('DATE', axis=1)\n",
    "\n",
    "yellow_tripdata_weather"
   ]
  },
  {
   "cell_type": "code",
   "execution_count": null,
   "metadata": {},
   "outputs": [],
   "source": [
    "yellow_tripdata_weather.to_feather(\"../preprocessed_data/yellow_tripdata_2018-1-2-3_fe_weather\")"
   ]
  },
  {
   "cell_type": "code",
   "execution_count": null,
   "metadata": {},
   "outputs": [],
   "source": []
  },
  {
   "cell_type": "markdown",
   "metadata": {},
   "source": [
    "## Removing outliers"
   ]
  },
  {
   "cell_type": "code",
   "execution_count": null,
   "metadata": {
    "scrolled": true
   },
   "outputs": [],
   "source": [
    "# Load preprocessed trip data after feature engineering\n",
    "\n",
    "yellow_tripdata = pd.read_feather(\"../preprocessed_data/yellow_tripdata_2018-1-2-3_fe_weather\")\n",
    "\n",
    "yellow_tripdata"
   ]
  },
  {
   "cell_type": "code",
   "execution_count": null,
   "metadata": {},
   "outputs": [],
   "source": [
    "# Divide into standard-rate trip and JFK-rate trip\n",
    "\n",
    "yellow_tripdata_standard = yellow_tripdata[yellow_tripdata['RatecodeID'] == 1]\n",
    "yellow_tripdata_jfk = yellow_tripdata[yellow_tripdata['RatecodeID'] == 2]\n"
   ]
  },
  {
   "cell_type": "code",
   "execution_count": null,
   "metadata": {},
   "outputs": [],
   "source": [
    "# remove same pick-up and drop-off location for JFK trip (should be in preprocessing)\n",
    "\n",
    "yellow_tripdata_jfk = yellow_tripdata_jfk[yellow_tripdata_jfk['PULocationID'] != yellow_tripdata_jfk['DOLocationID']]\n"
   ]
  },
  {
   "cell_type": "code",
   "execution_count": null,
   "metadata": {},
   "outputs": [],
   "source": []
  },
  {
   "cell_type": "markdown",
   "metadata": {},
   "source": [
    "#### Removing outlier for fees (standard rate)"
   ]
  },
  {
   "cell_type": "code",
   "execution_count": null,
   "metadata": {},
   "outputs": [],
   "source": [
    "# Draw the box plot to see if there's any outlier for fees (standard rate)\n",
    "\n",
    "amount = ['fare_amount', 'tip_amount', 'total_amount']\n",
    "\n",
    "fee_boxplot = yellow_tripdata_standard.boxplot(column=amount, fontsize=10, figsize=(6,6))\n",
    "fig = fee_boxplot.get_figure()\n",
    "\n",
    "fig.suptitle(\"Box Plot of Fees under Standard Rate with outliers\")\n",
    "plt.xlabel('Type of amount')\n",
    "plt.ylabel('Fees (dollars)')\n",
    "fig.show()\n",
    "fig.savefig(\"../plots/Box Plot of Fees under Standard Rate with outliers\")"
   ]
  },
  {
   "cell_type": "code",
   "execution_count": null,
   "metadata": {},
   "outputs": [],
   "source": [
    "# Remove outliers by quantile\n",
    "# https://stackoverflow.com/questions/35827863/remove-outliers-in-pandas-dataframe-using-percentiles\n",
    "\n",
    "Q1 = yellow_tripdata_standard[amount].quantile(0.25)\n",
    "Q3 = yellow_tripdata_standard[amount].quantile(0.75)\n",
    "IQR = Q3 - Q1\n",
    "\n",
    "yellow_standard_no_fee_outliers = yellow_tripdata_standard[~((yellow_tripdata_standard[amount] < (Q1 - 3 * IQR)) | (yellow_tripdata_standard[amount] > (Q3 + 3 * IQR))).any(axis=1)]\n",
    "\n",
    "yellow_standard_no_fee_outliers"
   ]
  },
  {
   "cell_type": "code",
   "execution_count": null,
   "metadata": {},
   "outputs": [],
   "source": [
    "# Draw the box plot after removing outliers (standard rate)\n",
    "\n",
    "fee_boxplot = yellow_standard_no_fee_outliers.boxplot(column=amount, fontsize=10, figsize=(6,6))\n",
    "fig = fee_boxplot.get_figure()\n",
    "\n",
    "fig.suptitle(\"Box Plot of Fees under Standard Rate without outliers\")\n",
    "plt.xlabel('Type of amount')\n",
    "plt.ylabel('Fees (dollars)')\n",
    "fig.show()\n",
    "fig.savefig(\"../plots/Box Plot of Fees under Standard Rate without outliers\")"
   ]
  },
  {
   "cell_type": "code",
   "execution_count": null,
   "metadata": {},
   "outputs": [],
   "source": []
  },
  {
   "cell_type": "markdown",
   "metadata": {},
   "source": [
    "#### Removing outlier for fees (JFK rate)"
   ]
  },
  {
   "cell_type": "code",
   "execution_count": null,
   "metadata": {},
   "outputs": [],
   "source": [
    "# Draw the box plot to see if there's any outlier for fees (JFK rate)\n",
    "\n",
    "amount = ['fare_amount', 'tip_amount', 'total_amount']\n",
    "\n",
    "fee_boxplot = yellow_tripdata_jfk.boxplot(column=amount, fontsize=10, figsize=(6,6))\n",
    "fig = fee_boxplot.get_figure()\n",
    "\n",
    "fig.suptitle(\"Box Plot of Fees under JFK Rate with outliers\")\n",
    "plt.xlabel('Type of amount')\n",
    "plt.ylabel('Fees (dollars)')\n",
    "fig.show()\n",
    "fig.savefig(\"../plots/Box Plot of Fees under JFK Rate with outliers\")"
   ]
  },
  {
   "cell_type": "code",
   "execution_count": null,
   "metadata": {},
   "outputs": [],
   "source": [
    "# Remove outliers by quantile\n",
    "\n",
    "Q1 = yellow_tripdata_jfk[amount].quantile(0.25)\n",
    "Q3 = yellow_tripdata_jfk[amount].quantile(0.75)\n",
    "IQR = Q3 - Q1\n",
    "\n",
    "yellow_jfk_no_fee_outliers = yellow_tripdata_jfk[~((yellow_tripdata_jfk[amount] < (Q1 - 3 * IQR)) | (yellow_tripdata_jfk[amount] > (Q3 + 3 * IQR))).any(axis=1)]\n",
    "\n",
    "yellow_jfk_no_fee_outliers"
   ]
  },
  {
   "cell_type": "code",
   "execution_count": null,
   "metadata": {},
   "outputs": [],
   "source": [
    "# Draw the box plot after removing outliers (JFK rate)\n",
    "\n",
    "fee_boxplot = yellow_jfk_no_fee_outliers.boxplot(column=amount, fontsize=10, figsize=(6,6))\n",
    "fig = fee_boxplot.get_figure()\n",
    "\n",
    "fig.suptitle(\"Box Plot of Fees under JFK Rate without outliers\")\n",
    "plt.xlabel('Type of amount')\n",
    "plt.ylabel('Fees (dollars)')\n",
    "fig.show()\n",
    "fig.savefig(\"../plots/Box Plot of Fees under JFK Rate without outliers\")"
   ]
  },
  {
   "cell_type": "code",
   "execution_count": null,
   "metadata": {},
   "outputs": [],
   "source": []
  },
  {
   "cell_type": "markdown",
   "metadata": {},
   "source": [
    "#### Removing outlier for distance (standard rate)"
   ]
  },
  {
   "cell_type": "code",
   "execution_count": null,
   "metadata": {},
   "outputs": [],
   "source": [
    "# Draw the box plot to see if there's any outlier for trip distance (standard rate)\n",
    "\n",
    "distance_boxplot = yellow_standard_no_fee_outliers.boxplot(column='trip_distance', fontsize=10, figsize=(6,6))\n",
    "fig = distance_boxplot.get_figure()\n",
    "\n",
    "fig.suptitle(\"Box Plot of Trip Distance under Standard Rate with outliers\")\n",
    "plt.ylabel('Distance (miles)')\n",
    "fig.show()\n",
    "fig.savefig(\"../plots/Box Plot of Trip Distance under Standard Rate with outliers\")"
   ]
  },
  {
   "cell_type": "code",
   "execution_count": null,
   "metadata": {},
   "outputs": [],
   "source": [
    "# Same as removing outliers for fees to remove outliers for distance \n",
    "\n",
    "Q1 = yellow_tripdata_standard['trip_distance'].quantile(0.25)\n",
    "Q3 = yellow_tripdata_standard['trip_distance'].quantile(0.75)\n",
    "IQR = Q3 - Q1\n",
    "\n",
    "yellow_standard_no_distance_outliers = yellow_standard_no_fee_outliers[~((yellow_standard_no_fee_outliers['trip_distance'] < (Q1 - 3 * IQR)) | (yellow_standard_no_fee_outliers['trip_distance'] > (Q3 + 3 * IQR)))]\n",
    "\n",
    "yellow_standard_no_distance_outliers"
   ]
  },
  {
   "cell_type": "code",
   "execution_count": null,
   "metadata": {},
   "outputs": [],
   "source": [
    "# Draw the box plot after removing outliers (standard rate)\n",
    "\n",
    "distance_boxplot = yellow_standard_no_distance_outliers.boxplot(column='trip_distance', fontsize=10, figsize=(6,6))\n",
    "fig = distance_boxplot.get_figure()\n",
    "\n",
    "fig.suptitle(\"Box Plot of Trip Distance under Standard Rate without Outliers\")\n",
    "plt.ylabel('Distance (miles)')\n",
    "fig.show()\n",
    "fig.savefig(\"../plots/Box Plot of Trip Distance under Standard Rate without Outliers\")"
   ]
  },
  {
   "cell_type": "code",
   "execution_count": null,
   "metadata": {},
   "outputs": [],
   "source": []
  },
  {
   "cell_type": "markdown",
   "metadata": {},
   "source": [
    "#### Removing outlier for distance (JFK rate)"
   ]
  },
  {
   "cell_type": "code",
   "execution_count": null,
   "metadata": {},
   "outputs": [],
   "source": [
    "# Draw the box plot to see if there's any outlier for trip distance (JFK rate)\n",
    "\n",
    "distance_boxplot = yellow_jfk_no_fee_outliers.boxplot(column='trip_distance', fontsize=10, figsize=(6,6))\n",
    "fig = distance_boxplot.get_figure()\n",
    "\n",
    "fig.suptitle(\"Box Plot of Trip Distance under JFK Rate with outliers\")\n",
    "plt.ylabel('Distance (miles)')\n",
    "fig.show()\n",
    "fig.savefig(\"../plots/Box Plot of Trip Distance under JFK Rate with outliers\")"
   ]
  },
  {
   "cell_type": "code",
   "execution_count": null,
   "metadata": {},
   "outputs": [],
   "source": [
    "# Same as removing outliers for fees to remove outliers for distance \n",
    "\n",
    "Q1 = yellow_tripdata_jfk['trip_distance'].quantile(0.25)\n",
    "Q3 = yellow_tripdata_jfk['trip_distance'].quantile(0.75)\n",
    "IQR = Q3 - Q1\n",
    "\n",
    "yellow_jfk_no_distance_outliers = yellow_jfk_no_fee_outliers[~((yellow_jfk_no_fee_outliers['trip_distance'] < (Q1 - 3 * IQR)) | (yellow_jfk_no_fee_outliers['trip_distance'] > (Q3 + 3 * IQR)))]\n",
    "\n",
    "yellow_jfk_no_distance_outliers\n"
   ]
  },
  {
   "cell_type": "code",
   "execution_count": null,
   "metadata": {},
   "outputs": [],
   "source": [
    "# Draw the box plot after removing outliers (standard rate)\n",
    "\n",
    "distance_boxplot = yellow_jfk_no_distance_outliers.boxplot(column='trip_distance', fontsize=10, figsize=(6,6))\n",
    "fig = distance_boxplot.get_figure()\n",
    "\n",
    "fig.suptitle(\"Box Plot of Trip Distance under JFK Rate without Outliers\")\n",
    "plt.ylabel('Distance (miles)')\n",
    "fig.show()\n",
    "fig.savefig(\"../plots/Box Plot of Trip Distance under JFK Rate without Outliers\")"
   ]
  },
  {
   "cell_type": "code",
   "execution_count": null,
   "metadata": {},
   "outputs": [],
   "source": []
  },
  {
   "cell_type": "markdown",
   "metadata": {},
   "source": [
    "#### Output the data after outliers removed"
   ]
  },
  {
   "cell_type": "code",
   "execution_count": null,
   "metadata": {},
   "outputs": [],
   "source": [
    "# Output the data without outliers\n",
    "\n",
    "yellow_standard_no_outliers = yellow_standard_no_distance_outliers.reset_index().drop('index', axis=1)\n",
    "\n",
    "yellow_standard_no_outliers.to_feather(\"../preprocessed_data/yellow_tripdata_2018-1-2-3_standard_no_outliers\")\n"
   ]
  },
  {
   "cell_type": "code",
   "execution_count": null,
   "metadata": {},
   "outputs": [],
   "source": [
    "# Output the data without outliers\n",
    "\n",
    "yellow_jfk_no_outliers = yellow_jfk_no_distance_outliers.reset_index().drop('index', axis=1)\n",
    "\n",
    "yellow_jfk_no_outliers.to_feather(\"../preprocessed_data/yellow_tripdata_2018-1-2-3_jfk_no_outliers\")"
   ]
  },
  {
   "cell_type": "code",
   "execution_count": null,
   "metadata": {},
   "outputs": [],
   "source": []
  },
  {
   "cell_type": "markdown",
   "metadata": {},
   "source": [
    "## Geospatial Visualisation"
   ]
  },
  {
   "cell_type": "code",
   "execution_count": null,
   "metadata": {},
   "outputs": [],
   "source": [
    "import geopandas as gpd\n",
    "\n",
    "import folium\n",
    "from folium.plugins import FastMarkerCluster\n",
    "from folium.plugins import HeatMap\n",
    "\n",
    "from bokeh.plotting import figure, show\n",
    "from bokeh.tile_providers import get_provider, Vendors\n",
    "from bokeh.io import save, reset_output, output_notebook\n",
    "\n",
    "from bokeh.models import ColorBar, LinearColorMapper\n",
    "from bokeh.palettes import all_palettes"
   ]
  },
  {
   "cell_type": "code",
   "execution_count": null,
   "metadata": {},
   "outputs": [],
   "source": [
    "# Load processed separated trip data\n",
    "\n",
    "yellow_standard_no_outliers = pd.read_feather(\"../preprocessed_data/yellow_tripdata_2018-1-2-3_standard_no_outliers\")\n",
    "yellow_jfk_no_outliers = pd.read_feather(\"../preprocessed_data/yellow_tripdata_2018-1-2-3_jfk_no_outliers\")\n",
    "\n",
    "yellow_no_outliers = yellow_standard_no_outliers.append(yellow_jfk_no_outliers)"
   ]
  },
  {
   "cell_type": "code",
   "execution_count": null,
   "metadata": {},
   "outputs": [],
   "source": [
    "yellow_no_outliers = yellow_no_outliers.reset_index().drop('index', axis=1)\n",
    "\n",
    "yellow_no_outliers.to_feather(\"../preprocessed_data/yellow_tripdata_2018-1-2-3_no_outliers\")"
   ]
  },
  {
   "cell_type": "code",
   "execution_count": null,
   "metadata": {},
   "outputs": [],
   "source": [
    "# sf stands for shape file\n",
    "sf = gpd.read_file(\"../raw_data/taxi_zones/taxi_zones.shp\")\n",
    "\n",
    "# Convert the geometry shape to to latitude and longitude\n",
    "sf['geometry'] = sf['geometry'].to_crs(\"+proj=longlat +ellps=WGS84 +datum=WGS84 +no_defs\")\n"
   ]
  },
  {
   "cell_type": "code",
   "execution_count": null,
   "metadata": {
    "scrolled": true
   },
   "outputs": [],
   "source": [
    "# From prepreocessing code file, it's found that there are invalid data in the shape file, so fix it\n",
    "\n",
    "sf.loc[56,'LocationID'] = 57\n",
    "sf.loc[103,'LocationID'] = 104\n",
    "sf.loc[104,'LocationID'] = 105\n",
    "\n",
    "sf"
   ]
  },
  {
   "cell_type": "code",
   "execution_count": null,
   "metadata": {},
   "outputs": [],
   "source": []
  },
  {
   "cell_type": "code",
   "execution_count": null,
   "metadata": {},
   "outputs": [],
   "source": [
    "# Load processed combined trip data\n",
    "\n",
    "yellow_no_outliers = pd.read_feather(\"../preprocessed_data/yellow_tripdata_2018-1-2-3_no_outliers\")\n",
    "\n",
    "yellow_no_outliers['count'] = 1"
   ]
  },
  {
   "cell_type": "code",
   "execution_count": null,
   "metadata": {
    "scrolled": true
   },
   "outputs": [],
   "source": [
    "data_by_date = yellow_no_outliers.groupby(by='pickup_date')\n",
    "\n",
    "days_amount = len(data_by_date)\n",
    "\n",
    "data_by_date_sum = data_by_date.sum()\n",
    "data_by_date_sum"
   ]
  },
  {
   "cell_type": "code",
   "execution_count": null,
   "metadata": {},
   "outputs": [],
   "source": []
  },
  {
   "cell_type": "markdown",
   "metadata": {},
   "source": [
    "#### Average Tip Ratio Map (Pickup region)"
   ]
  },
  {
   "cell_type": "code",
   "execution_count": null,
   "metadata": {
    "scrolled": true
   },
   "outputs": [],
   "source": [
    "data_by_pu = yellow_no_outliers.groupby(by='PULocationID')\n",
    "data_by_pu_sum = data_by_pu.sum()\n",
    "\n",
    "data_by_pu_sum"
   ]
  },
  {
   "cell_type": "code",
   "execution_count": null,
   "metadata": {},
   "outputs": [],
   "source": [
    "tip_count = data_by_pu_sum['tip_ratio']\n",
    "trip_count = data_by_pu_sum['count']\n",
    "\n",
    "Tip_ratio = pd.DataFrame({'LocationID': tip_count.index, 'tip_ratio': round(tip_count / trip_count, 3)})\n",
    "\n",
    "Tip_ratio"
   ]
  },
  {
   "cell_type": "code",
   "execution_count": null,
   "metadata": {},
   "outputs": [],
   "source": [
    "gdf_pu_tip = gpd.GeoDataFrame(pd.merge(Tip_ratio, sf, left_on='LocationID', right_on='LocationID'))\n",
    "gdf_pu_tip['tip_ratio'] = gdf_pu_tip['tip_ratio'].fillna(0)\n",
    "\n",
    "gdf_pu_tip = gdf_pu_tip[gdf_pu_tip['borough'] == 'Manhattan']\n",
    "gdf_pu_tip"
   ]
  },
  {
   "cell_type": "code",
   "execution_count": null,
   "metadata": {},
   "outputs": [],
   "source": [
    "geoJSON = gdf_pu_tip[['LocationID','geometry']].to_json()"
   ]
  },
  {
   "cell_type": "code",
   "execution_count": null,
   "metadata": {},
   "outputs": [],
   "source": [
    "# Map showing pick-up amount in every yellow-taxi zone in Manhattan\n",
    "\n",
    "m_pu_tip = folium.Map(location=[40.781, -73.966], tiles=\"Stamen Terrain\", zoom_start=11)\n",
    "\n",
    "# refer to the folium documentations on more information on how to plot aggregated data.\n",
    "folium.Choropleth(\n",
    "    geo_data=geoJSON, # geoJSON \n",
    "    name='choropleth', # name of plot\n",
    "    data=gdf_pu_tip, # data source\n",
    "    columns=['LocationID','tip_ratio'], # the columns required\n",
    "    key_on='properties.LocationID', # this is from the geoJSON's properties\n",
    "    fill_color='BuPu', # color scheme\n",
    "    fill_opacity=0.9,\n",
    "    line_opacity=0.5,\n",
    "    legend_name='Average Tip ratio' # legend title\n",
    ").add_to(m_pu_tip)\n",
    "\n",
    "# folium.Marker([40.756, -73.985],popup=\"<b>Times Sqaure</b>\").add_to(m_pu_tip)\n",
    "\n",
    "folium.CircleMarker(\n",
    "    location=[40.758, -73.985],\n",
    "    radius=8,\n",
    "    popup=\"Times Sqaure\",\n",
    "    color=\"white\",\n",
    "    fill=True,\n",
    "    fill_color=\"white\",\n",
    ").add_to(m_pu_tip)\n",
    "\n",
    "folium.CircleMarker(\n",
    "    location=[40.750, -73.993],\n",
    "    radius=8,\n",
    "    popup=\"Madison Square Garden\",\n",
    "    color=\"white\",\n",
    "    fill=True,\n",
    "    fill_color=\"white\",\n",
    ").add_to(m_pu_tip)\n",
    "\n",
    "folium.CircleMarker(\n",
    "    location=[40.870, -73.925],\n",
    "    radius=8,\n",
    "    popup=\"InWood Hill Park\",\n",
    "    color=\"green\",\n",
    "    fill=True,\n",
    "    fill_color=\"green\",\n",
    ").add_to(m_pu_tip)\n",
    "\n",
    "folium.CircleMarker(\n",
    "    location=[40.703, -74.015],\n",
    "    radius=8,\n",
    "    popup=\"Financial District\",\n",
    "    color=\"yellow\",\n",
    "    fill=True,\n",
    "    fill_color=\"yellow\",\n",
    ").add_to(m_pu_tip)\n",
    "\n",
    "folium.CircleMarker(\n",
    "    location=[40.762, -73.950],\n",
    "    radius=8,\n",
    "    popup=\"Roosevelt Island\",\n",
    "    color=\"blue\",\n",
    "    fill=True,\n",
    "    fill_color=\"blue\",\n",
    ").add_to(m_pu_tip)\n",
    "\n",
    "m_pu_tip.save('../plots/foliumChoroplethMapPickUpTipRatio.html')\n",
    "m_pu_tip"
   ]
  },
  {
   "cell_type": "code",
   "execution_count": null,
   "metadata": {},
   "outputs": [],
   "source": []
  },
  {
   "cell_type": "markdown",
   "metadata": {},
   "source": [
    "#### Average Pickup Count Map"
   ]
  },
  {
   "cell_type": "code",
   "execution_count": null,
   "metadata": {},
   "outputs": [],
   "source": [
    "pu_count = data_by_pu_sum['count']\n",
    "\n",
    "PU_count = pd.DataFrame({'LocationID': pu_count.index, 'PU_count': round(pu_count / days_amount)})\n",
    "\n",
    "PU_count"
   ]
  },
  {
   "cell_type": "code",
   "execution_count": null,
   "metadata": {},
   "outputs": [],
   "source": [
    "gdf_pu_count = gpd.GeoDataFrame(pd.merge(PU_count, sf, left_on='LocationID', right_on='LocationID'))\n",
    "gdf_pu_count['PU_count'] = gdf_pu_count['PU_count'].fillna(0)\n",
    "\n",
    "gdf_pu_count = gdf_pu_count[gdf_pu_count['borough'] == 'Manhattan']\n",
    "gdf_pu_count"
   ]
  },
  {
   "cell_type": "code",
   "execution_count": null,
   "metadata": {},
   "outputs": [],
   "source": [
    "geoJSON = gdf_pu_count[['LocationID','geometry']].to_json()"
   ]
  },
  {
   "cell_type": "code",
   "execution_count": null,
   "metadata": {
    "scrolled": false
   },
   "outputs": [],
   "source": [
    "# Map showing pick-up amount in every yellow-taxi zone in Manhattan\n",
    "\n",
    "m_pu_count = folium.Map(location=[40.781, -73.966], tiles=\"Stamen Terrain\", zoom_start=11)\n",
    "\n",
    "# refer to the folium documentations on more information on how to plot aggregated data.\n",
    "folium.Choropleth(\n",
    "    geo_data=geoJSON, # geoJSON \n",
    "    name='choropleth', # name of plot\n",
    "    data=gdf_pu_count, # data source\n",
    "    columns=['LocationID','PU_count'], # the columns required\n",
    "    key_on='properties.LocationID', # this is from the geoJSON's properties\n",
    "    fill_color='OrRd', # color scheme\n",
    "    fill_opacity=0.9,\n",
    "    line_opacity=0.5,\n",
    "    legend_name='Number of Pickups Per Day' # legend title\n",
    ").add_to(m_pu_count)\n",
    "\n",
    "m_pu_count.save('../plots/foliumChoroplethMapPickUpCount.html')\n",
    "m_pu_count"
   ]
  },
  {
   "cell_type": "code",
   "execution_count": null,
   "metadata": {},
   "outputs": [],
   "source": []
  },
  {
   "cell_type": "markdown",
   "metadata": {},
   "source": [
    "#### Average Dropoff Count Map"
   ]
  },
  {
   "cell_type": "code",
   "execution_count": null,
   "metadata": {},
   "outputs": [],
   "source": [
    "data_by_do = yellow_no_outliers.groupby(by='DOLocationID')\n",
    "data_by_do_sum = data_by_do.sum()\n",
    "\n",
    "data_by_do_sum"
   ]
  },
  {
   "cell_type": "code",
   "execution_count": null,
   "metadata": {},
   "outputs": [],
   "source": [
    "do_count = data_by_do_sum['count']\n",
    "\n",
    "DO_count = pd.DataFrame({'LocationID': do_count.index, 'DO_count': round(do_count / days_amount)})\n",
    "\n",
    "DO_count"
   ]
  },
  {
   "cell_type": "code",
   "execution_count": null,
   "metadata": {},
   "outputs": [],
   "source": [
    "gdf_do_count = gpd.GeoDataFrame(pd.merge(DO_count, sf, left_on='LocationID', right_on='LocationID')) #, how='outer'))\n",
    "gdf_do_count['DO_count'] = gdf_do_count['DO_count'].fillna(0)\n",
    "\n",
    "gdf_do_count = gdf_do_count[gdf_do_count['borough'] == 'Manhattan']\n",
    "gdf_do_count"
   ]
  },
  {
   "cell_type": "code",
   "execution_count": null,
   "metadata": {},
   "outputs": [],
   "source": [
    "geoJSON = gdf_do_count[['LocationID','geometry']].to_json()"
   ]
  },
  {
   "cell_type": "code",
   "execution_count": null,
   "metadata": {},
   "outputs": [],
   "source": [
    "# Map showing drop-off amount in every yellow-taxi zone in Manhattan\n",
    "\n",
    "m_do_count = folium.Map(location=[40.781, -73.966], tiles=\"Stamen Terrain\", zoom_start=11)\n",
    "\n",
    "# refer to the folium documentations on more information on how to plot aggregated data.\n",
    "folium.Choropleth(\n",
    "    geo_data=geoJSON, # geoJSON \n",
    "    name='choropleth', # name of plot\n",
    "    data=gdf_do_count, # data source\n",
    "    columns=['LocationID','DO_count'], # the columns required\n",
    "    key_on='properties.LocationID', # this is from the geoJSON's properties\n",
    "    fill_color='OrRd', # color scheme\n",
    "    fill_opacity=0.9,\n",
    "    line_opacity=0.5,\n",
    "    legend_name='Number of Dropoffs Per Day' # legend title\n",
    ").add_to(m_do_count)\n",
    "\n",
    "m_do_count.save('../plots/foliumChoroplethMapDropOffCount.html')\n",
    "m_do_count"
   ]
  },
  {
   "cell_type": "code",
   "execution_count": null,
   "metadata": {},
   "outputs": [],
   "source": []
  },
  {
   "cell_type": "markdown",
   "metadata": {},
   "source": [
    "#### Hotel Count Map"
   ]
  },
  {
   "cell_type": "code",
   "execution_count": null,
   "metadata": {
    "scrolled": true
   },
   "outputs": [],
   "source": [
    "# Load preprocessed hotel data which is already merged with the shape file\n",
    "\n",
    "processed_hotel = pd.read_feather(\"../preprocessed_data/processed_hotel\")\n",
    "\n",
    "processed_hotel"
   ]
  },
  {
   "cell_type": "code",
   "execution_count": null,
   "metadata": {
    "scrolled": true
   },
   "outputs": [],
   "source": [
    "# Count hotel amount for every zone\n",
    "\n",
    "hotel_count = processed_hotel['LocationID'].value_counts().sort_index()\n",
    "\n",
    "Hotel_count = pd.DataFrame({'LocationID': hotel_count.index, 'Hotel_count': hotel_count})\n",
    "\n",
    "Hotel_count"
   ]
  },
  {
   "cell_type": "code",
   "execution_count": null,
   "metadata": {},
   "outputs": [],
   "source": [
    "gdf_hotel_count = gpd.GeoDataFrame(pd.merge(Hotel_count, sf, on='LocationID', how='outer'))\n",
    "gdf_hotel_count = gdf_hotel_count.fillna(0)\n",
    "\n",
    "gdf_hotel_count = gdf_hotel_count[gdf_hotel_count['borough'] == 'Manhattan']\n",
    "gdf_hotel_count"
   ]
  },
  {
   "cell_type": "code",
   "execution_count": null,
   "metadata": {},
   "outputs": [],
   "source": [
    "geoJSON = gdf_hotel_count[['LocationID','geometry']].to_json()"
   ]
  },
  {
   "cell_type": "code",
   "execution_count": null,
   "metadata": {},
   "outputs": [],
   "source": [
    "# Map showing trip amount in every yellow-taxi zone\n",
    "\n",
    "m_hotel_count = folium.Map(location=[40.781, -73.966], tiles=\"Stamen Terrain\", zoom_start=11)\n",
    "\n",
    "# refer to the folium documentations on more information on how to plot aggregated data.\n",
    "folium.Choropleth(\n",
    "    geo_data=geoJSON, # geoJSON \n",
    "    name='choropleth', # name of plot\n",
    "    data=gdf_hotel_count, # data source\n",
    "    columns=['LocationID','Hotel_count'], # the columns required\n",
    "    key_on='properties.LocationID', # this is from the geoJSON's properties\n",
    "    fill_color='YlGn', # color scheme\n",
    "    fill_opacity=0.9,\n",
    "    line_opacity=0.5,\n",
    "    legend_name='Hotel Number' # legend title\n",
    ").add_to(m_hotel_count)\n",
    "\n",
    "m_hotel_count.save('../plots/foliumChoroplethMapHotelCount.html')\n",
    "m_hotel_count"
   ]
  },
  {
   "cell_type": "code",
   "execution_count": null,
   "metadata": {},
   "outputs": [],
   "source": []
  },
  {
   "cell_type": "markdown",
   "metadata": {},
   "source": [
    "## Descriptive Statistics"
   ]
  },
  {
   "cell_type": "code",
   "execution_count": null,
   "metadata": {},
   "outputs": [],
   "source": [
    "import pandas as pd\n",
    "import numpy as np\n",
    "import seaborn as sns\n",
    "import matplotlib.pyplot as plt\n",
    "\n",
    "# a nice way of filtering out deprecated warnings\n",
    "import warnings\n",
    "warnings.filterwarnings(\"ignore\")"
   ]
  },
  {
   "cell_type": "code",
   "execution_count": null,
   "metadata": {},
   "outputs": [],
   "source": [
    "yellow_standard_no_outliers = pd.read_feather(\"../preprocessed_data/yellow_tripdata_2018-1-2-3_standard_no_outliers\")\n",
    "yellow_jfk_no_outliers = pd.read_feather(\"../preprocessed_data/yellow_tripdata_2018-1-2-3_jfk_no_outliers\")"
   ]
  },
  {
   "cell_type": "markdown",
   "metadata": {},
   "source": [
    "### Sample the data"
   ]
  },
  {
   "cell_type": "code",
   "execution_count": null,
   "metadata": {},
   "outputs": [],
   "source": [
    "# Sample the data grouping by pick-up date\n",
    "# Since JFK-rate data is not too large, we use all of them\n",
    "\n",
    "yellow_standard_sample = yellow_standard_no_outliers.groupby(\"pickup_date\").sample(frac=0.02, random_state=1)\n",
    "# yellow_jfk_sample = yellow_jfk_no_outliers.groupby(\"pickup_date\").sample(frac=0.05, random_state=1)"
   ]
  },
  {
   "cell_type": "code",
   "execution_count": null,
   "metadata": {
    "scrolled": true
   },
   "outputs": [],
   "source": [
    "yellow_standard_sample = yellow_standard_sample.reset_index().drop('index', axis=1)"
   ]
  },
  {
   "cell_type": "code",
   "execution_count": null,
   "metadata": {},
   "outputs": [],
   "source": [
    "yellow_standard_sample.to_feather(\"../preprocessed_data/yellow_standard_sample\")"
   ]
  },
  {
   "cell_type": "code",
   "execution_count": null,
   "metadata": {},
   "outputs": [],
   "source": []
  },
  {
   "cell_type": "markdown",
   "metadata": {},
   "source": [
    "### Pickup date"
   ]
  },
  {
   "cell_type": "code",
   "execution_count": 109,
   "metadata": {},
   "outputs": [],
   "source": [
    "yellow_standard_sample = pd.read_feather(\"../preprocessed_data/yellow_standard_sample\")"
   ]
  },
  {
   "cell_type": "code",
   "execution_count": null,
   "metadata": {},
   "outputs": [],
   "source": [
    "yellow_standard_sample.describe()"
   ]
  },
  {
   "cell_type": "code",
   "execution_count": null,
   "metadata": {},
   "outputs": [],
   "source": [
    "data_by_date = yellow_standard_sample.groupby(by='pickup_date')\n",
    "data_by_date_sum = data_by_date.sum()\n",
    "\n",
    "data_by_date_sum"
   ]
  },
  {
   "cell_type": "code",
   "execution_count": null,
   "metadata": {},
   "outputs": [],
   "source": [
    "date_count = len(data_by_date_sum)\n",
    "\n",
    "date_count"
   ]
  },
  {
   "cell_type": "code",
   "execution_count": null,
   "metadata": {},
   "outputs": [],
   "source": [
    "data_by_date.size()"
   ]
  },
  {
   "cell_type": "markdown",
   "metadata": {},
   "source": [
    "#### Average Count of Trips by Date"
   ]
  },
  {
   "cell_type": "code",
   "execution_count": null,
   "metadata": {},
   "outputs": [],
   "source": [
    "plt.figure(figsize=(10,6))\n",
    "\n",
    "(data_by_date.size()).plot()\n",
    "plt.title(\"Average Count of Trips by Date\")\n",
    "plt.ylabel(\"Count of trips (per day)\")\n",
    "plt.xlabel(\"Date\")\n",
    "plt.savefig(\"../plots/Average Count of Trips by Date\")\n",
    "plt.show()"
   ]
  },
  {
   "cell_type": "markdown",
   "metadata": {},
   "source": [
    "#### Count of Trips by Number of Passenger"
   ]
  },
  {
   "cell_type": "code",
   "execution_count": null,
   "metadata": {},
   "outputs": [],
   "source": [
    "passenger_count = yellow_standard_sample['passenger_count'].value_counts()\n",
    "passenger_count"
   ]
  },
  {
   "cell_type": "code",
   "execution_count": null,
   "metadata": {},
   "outputs": [],
   "source": [
    "plt.figure(figsize=(6,6))\n",
    "plt.bar(passenger_count.index, passenger_count / date_count)\n",
    "plt.title(\"Average Count of Trips by Number of Passenger\")\n",
    "plt.ylabel(\"Count of trips (per day)\")\n",
    "plt.xlabel(\"Number of Passenger\")\n",
    "plt.savefig(\"../plots/Count of Trips by Number of Passenger\")\n",
    "plt.show()"
   ]
  },
  {
   "cell_type": "code",
   "execution_count": null,
   "metadata": {},
   "outputs": [],
   "source": []
  },
  {
   "cell_type": "markdown",
   "metadata": {},
   "source": [
    "### Type of day (weekday or weekend)"
   ]
  },
  {
   "cell_type": "code",
   "execution_count": null,
   "metadata": {},
   "outputs": [],
   "source": [
    "data_by_day_type = yellow_standard_sample.groupby(by='day_type')"
   ]
  },
  {
   "cell_type": "code",
   "execution_count": null,
   "metadata": {},
   "outputs": [],
   "source": [
    "data_by_day_type_sum = data_by_day_type.sum()\n",
    "\n",
    "data_by_day_type_sum"
   ]
  },
  {
   "cell_type": "code",
   "execution_count": null,
   "metadata": {},
   "outputs": [],
   "source": [
    "data_by_day_type.size()"
   ]
  },
  {
   "cell_type": "markdown",
   "metadata": {},
   "source": [
    "#### Average Count of Trips by Type of Day"
   ]
  },
  {
   "cell_type": "code",
   "execution_count": null,
   "metadata": {},
   "outputs": [],
   "source": [
    "day_type_date_count = data_by_day_type['pickup_date'].nunique()\n",
    "\n",
    "day_type_date_count"
   ]
  },
  {
   "cell_type": "code",
   "execution_count": null,
   "metadata": {},
   "outputs": [],
   "source": [
    "plt.figure(figsize=(6,6))\n",
    "plt.bar(day_type_date_count.index, data_by_day_type.size() / day_type_date_count)\n",
    "plt.title(\"Average Count of Trips by Type of Day\")\n",
    "plt.ylabel(\"Count of trips (per day)\")\n",
    "plt.xlabel(\"Type of Day\")\n",
    "plt.savefig(\"../plots/Average Count of Trips by Type of Day\")\n",
    "plt.show()"
   ]
  },
  {
   "cell_type": "markdown",
   "metadata": {},
   "source": [
    "### Trip Distance"
   ]
  },
  {
   "cell_type": "markdown",
   "metadata": {},
   "source": [
    "#### Count of Trips by Trip Distance"
   ]
  },
  {
   "cell_type": "code",
   "execution_count": null,
   "metadata": {},
   "outputs": [],
   "source": [
    "x = yellow_standard_sample['trip_distance']\n",
    "\n",
    "plt.figure(figsize=(6,6))\n",
    "plt.hist(x, bins=50)\n",
    "plt.title(\"Count of Trips by Trip Distance\")\n",
    "plt.xlabel(\"Distance of Trip (miles)\")\n",
    "plt.ylabel(\"Count of Trips\")\n",
    "plt.savefig(\"../plots/Count of Trips by Trip Distance\")\n",
    "plt.show()\n"
   ]
  },
  {
   "cell_type": "markdown",
   "metadata": {},
   "source": [
    "#### Count of Trips by Trip Distance with Different Number of Passenger"
   ]
  },
  {
   "cell_type": "code",
   "execution_count": null,
   "metadata": {},
   "outputs": [],
   "source": [
    "x1 = yellow_standard_sample.loc[yellow_standard_sample['passenger_count']==1, 'trip_distance']\n",
    "x2 = yellow_standard_sample.loc[yellow_standard_sample['passenger_count']==2, 'trip_distance']\n",
    "x3 = yellow_standard_sample.loc[yellow_standard_sample['passenger_count']==3, 'trip_distance']\n",
    "x4 = yellow_standard_sample.loc[yellow_standard_sample['passenger_count']==4, 'trip_distance']\n",
    "x5 = yellow_standard_sample.loc[yellow_standard_sample['passenger_count']==5, 'trip_distance']\n",
    "x6 = yellow_standard_sample.loc[yellow_standard_sample['passenger_count']==6, 'trip_distance']\n",
    "\n",
    "plt.figure(figsize=(8,8))\n",
    "plt.hist(x1, color='g', label='1 Passenger', bins=50)\n",
    "plt.hist(x2, color='b', label='2 Passenger', bins=50)\n",
    "plt.hist(x5, color='r', label='5 Passenger', bins=50)\n",
    "plt.hist(x3, color='c', label='3 Passenger', bins=50)\n",
    "plt.hist(x6, color='m', label='6 Passenger', bins=50)\n",
    "plt.hist(x4, color='y', label='4 Passenger', bins=50)\n",
    "\n",
    "plt.title(\"Count of Trips by Trip Distance with Different Number of Passenger\")\n",
    "plt.xlabel(\"Distance of Trip (miles)\")\n",
    "plt.ylabel(\"Count of Trips\")\n",
    "plt.legend()\n",
    "plt.savefig(\"../plots/Count of Trips by Trip Distance with Different Number of Passenger\")\n",
    "plt.show()\n"
   ]
  },
  {
   "cell_type": "markdown",
   "metadata": {},
   "source": [
    "#### Denisty of Trips by Trip Distance with Different Number of Passenger"
   ]
  },
  {
   "cell_type": "code",
   "execution_count": null,
   "metadata": {},
   "outputs": [],
   "source": [
    "# Normalize\n",
    "kwargs = dict(hist_kws={'alpha':.6}, kde_kws={'linewidth':2})\n",
    "\n",
    "x1 = yellow_standard_sample.loc[yellow_standard_sample['passenger_count']==1, 'trip_distance']\n",
    "x2 = yellow_standard_sample.loc[yellow_standard_sample['passenger_count']==2, 'trip_distance']\n",
    "x3 = yellow_standard_sample.loc[yellow_standard_sample['passenger_count']==3, 'trip_distance']\n",
    "x4 = yellow_standard_sample.loc[yellow_standard_sample['passenger_count']==4, 'trip_distance']\n",
    "x5 = yellow_standard_sample.loc[yellow_standard_sample['passenger_count']==5, 'trip_distance']\n",
    "x6 = yellow_standard_sample.loc[yellow_standard_sample['passenger_count']==6, 'trip_distance']\n",
    "\n",
    "plt.figure(figsize=(8,8))\n",
    "x1.plot.kde(color='g', label='1 Passenger')\n",
    "x2.plot.kde(color='b', label='2 Passenger')\n",
    "x3.plot.kde(color='r', label='5 Passenger')\n",
    "x4.plot.kde(color='c', label='3 Passenger')\n",
    "x5.plot.kde(color='m', label='6 Passenger')\n",
    "x6.plot.kde(color='y', label='4 Passenger')\n",
    "\n",
    "plt.xlim(0,9)\n",
    "plt.title(\"Density of Trips by Trip Distance with Different Number of Passenger\")\n",
    "plt.xlabel(\"Distance of Trip (miles)\")\n",
    "plt.ylabel(\"Probability Density\")\n",
    "plt.legend()\n",
    "plt.savefig(\"../plots/Probability of Trips by Trip Distance with Different Number of Passenger\")\n",
    "plt.show()"
   ]
  },
  {
   "cell_type": "markdown",
   "metadata": {},
   "source": [
    "#### Count of Trips by Trip Distance on Weekday or Weekend"
   ]
  },
  {
   "cell_type": "code",
   "execution_count": null,
   "metadata": {},
   "outputs": [],
   "source": [
    "x1 = yellow_standard_sample.loc[yellow_standard_sample['day_type']==\"Weekday\", 'trip_distance']\n",
    "x2 = yellow_standard_sample.loc[yellow_standard_sample['day_type']==\"Weekend\", 'trip_distance']\n",
    "\n",
    "plt.figure(figsize=(8,8))\n",
    "plt.hist(x1, color='g', label='Weekday', bins=50)\n",
    "plt.hist(x2, color='r', label='Weekend', bins=50)\n",
    "\n",
    "\n",
    "plt.title(\"Count of Trips by Trip Distance on Weekday or Weekend\")\n",
    "plt.xlabel(\"Distance of Trip (miles)\")\n",
    "plt.ylabel(\"Count of Trips\")\n",
    "plt.legend()\n",
    "plt.savefig(\"../plots/Count of Trips by Trip Distance on Weekday or Weekend\")\n",
    "plt.show()\n"
   ]
  },
  {
   "cell_type": "markdown",
   "metadata": {},
   "source": [
    "#### Density of Trips by Trip Distance on Weekday or Weekend"
   ]
  },
  {
   "cell_type": "code",
   "execution_count": null,
   "metadata": {},
   "outputs": [],
   "source": [
    "# Normalize\n",
    "kwargs = dict(hist_kws={'alpha':.6}, kde_kws={'linewidth':2})\n",
    "\n",
    "x1 = yellow_standard_sample.loc[yellow_standard_sample['day_type']==\"Weekday\", 'trip_distance']\n",
    "x2 = yellow_standard_sample.loc[yellow_standard_sample['day_type']==\"Weekend\", 'trip_distance']\n",
    "\n",
    "plt.figure(figsize=(8,8))\n",
    "x1.plot.kde(color='g', label='Weekday')\n",
    "x2.plot.kde(color='r', label='Weekend')\n",
    "\n",
    "plt.xlim(0,9)\n",
    "plt.title(\"Density of Trips by Trip Distance on Weekday or Weekend\")\n",
    "plt.xlabel(\"Distance of Trip (miles)\")\n",
    "plt.ylabel(\"Probability Density\")\n",
    "plt.legend()\n",
    "plt.savefig(\"../plots/Probability of Trips by Trip Distance on Weekday or Weekend\")\n",
    "plt.show()\n"
   ]
  },
  {
   "cell_type": "markdown",
   "metadata": {},
   "source": [
    "### Time Duration"
   ]
  },
  {
   "cell_type": "markdown",
   "metadata": {},
   "source": [
    "#### Count of Trips by Time Duration"
   ]
  },
  {
   "cell_type": "code",
   "execution_count": null,
   "metadata": {},
   "outputs": [],
   "source": [
    "x = yellow_standard_sample['time_duration']\n",
    "\n",
    "plt.figure(figsize=(6,6))\n",
    "plt.hist(x, bins=50)\n",
    "plt.title(\"Count of Trips by Time Duration\")\n",
    "plt.xlabel(\"Time Duration of Trip (mins)\")\n",
    "plt.ylabel(\"Count of Trips\")\n",
    "plt.savefig(\"../plots/Count of Trips by Time Duration\")\n",
    "plt.show()\n"
   ]
  },
  {
   "cell_type": "markdown",
   "metadata": {},
   "source": [
    "#### Count of Trips by Time Duration with Different Number of Passenger"
   ]
  },
  {
   "cell_type": "code",
   "execution_count": null,
   "metadata": {},
   "outputs": [],
   "source": [
    "# Pick most of trips by most passenger_count\n",
    "\n",
    "x1 = yellow_standard_sample.loc[yellow_standard_sample['passenger_count']==1, 'time_duration']\n",
    "x2 = yellow_standard_sample.loc[yellow_standard_sample['passenger_count']==2, 'time_duration']\n",
    "x3 = yellow_standard_sample.loc[yellow_standard_sample['passenger_count']==3, 'time_duration']\n",
    "x4 = yellow_standard_sample.loc[yellow_standard_sample['passenger_count']==4, 'time_duration']\n",
    "x5 = yellow_standard_sample.loc[yellow_standard_sample['passenger_count']==5, 'time_duration']\n",
    "x6 = yellow_standard_sample.loc[yellow_standard_sample['passenger_count']==6, 'time_duration']\n",
    "\n",
    "plt.figure(figsize=(8,8))\n",
    "plt.hist(x1, color='g', label='1 Passenger', bins=50)\n",
    "plt.hist(x2, color='b', label='2 Passenger', bins=50)\n",
    "plt.hist(x5, color='c', label='5 Passenger', bins=50)\n",
    "plt.hist(x3, color='r', label='3 Passenger', bins=50)\n",
    "plt.hist(x6, color='m', label='6 Passenger', bins=50)\n",
    "plt.hist(x4, color='y', label='4 Passenger', bins=50)\n",
    "\n",
    "plt.title(\"Count of Trips by Time Duration with Different Number of Passenger\")\n",
    "plt.xlabel(\"Time Duration of Trip (mins)\")\n",
    "plt.ylabel(\"Count of Trips\")\n",
    "plt.legend()\n",
    "plt.savefig(\"../plots/Count of Trips by Time Duration with Different Number of Passenger\")\n",
    "plt.show()\n"
   ]
  },
  {
   "cell_type": "markdown",
   "metadata": {},
   "source": [
    "#### Density of Trips by Time Duration with Different Number of Passenger"
   ]
  },
  {
   "cell_type": "code",
   "execution_count": null,
   "metadata": {},
   "outputs": [],
   "source": [
    "# Normalize\n",
    "kwargs = dict(hist_kws={'alpha':.6}, kde_kws={'linewidth':2})\n",
    "\n",
    "x1 = yellow_standard_sample.loc[yellow_standard_sample['passenger_count']==1, 'time_duration']\n",
    "x2 = yellow_standard_sample.loc[yellow_standard_sample['passenger_count']==2, 'time_duration']\n",
    "x3 = yellow_standard_sample.loc[yellow_standard_sample['passenger_count']==3, 'time_duration']\n",
    "x4 = yellow_standard_sample.loc[yellow_standard_sample['passenger_count']==4, 'time_duration']\n",
    "x5 = yellow_standard_sample.loc[yellow_standard_sample['passenger_count']==5, 'time_duration']\n",
    "x6 = yellow_standard_sample.loc[yellow_standard_sample['passenger_count']==6, 'time_duration']\n",
    "\n",
    "plt.figure(figsize=(8,8))\n",
    "x1.plot.kde(color='g', label='1 Passenger')\n",
    "x2.plot.kde(color='b', label='2 Passenger')\n",
    "x3.plot.kde(color='r', label='3 Passenger')\n",
    "x4.plot.kde(color='c', label='4 Passenger')\n",
    "x5.plot.kde(color='m', label='5 Passenger')\n",
    "x6.plot.kde(color='y', label='6 Passenger')\n",
    "\n",
    "plt.xlim(0,60)\n",
    "plt.title(\"Density of Trips by Time Duration with Different Number of Passenger\")\n",
    "plt.xlabel(\"Time Duration of Trip (mins)\")\n",
    "plt.ylabel(\"Probability Density\")\n",
    "plt.legend()\n",
    "plt.savefig(\"../plots/Probabiity of Trips by Time Duration with Different Number of Passenger\")\n",
    "plt.show()\n"
   ]
  },
  {
   "cell_type": "code",
   "execution_count": null,
   "metadata": {},
   "outputs": [],
   "source": []
  },
  {
   "cell_type": "markdown",
   "metadata": {},
   "source": [
    "### Fee amount"
   ]
  },
  {
   "cell_type": "markdown",
   "metadata": {},
   "source": [
    "#### Tip Amount"
   ]
  },
  {
   "cell_type": "code",
   "execution_count": null,
   "metadata": {},
   "outputs": [],
   "source": [
    "plt.figure(figsize=(6,6))\n",
    "sns.distplot(yellow_standard_sample['tip_amount'], bins=50)\n",
    "plt.title(\"Density of Trips by Tip Amount\")\n",
    "plt.xlabel(\"Tip Amount\")\n",
    "plt.savefig(\"../plots/Density of Trips by Tip Amount\")\n",
    "plt.show()"
   ]
  },
  {
   "cell_type": "markdown",
   "metadata": {},
   "source": [
    "#### Tip Ratio"
   ]
  },
  {
   "cell_type": "code",
   "execution_count": null,
   "metadata": {},
   "outputs": [],
   "source": [
    "x = yellow_standard_sample['tip_ratio']\n",
    "\n",
    "plt.figure(figsize=(6,6))\n",
    "plt.hist(x, bins=50)\n",
    "plt.title(\"Count of Trips by Tip Ratio\")\n",
    "plt.xlabel(\"Tip Ratio (by total amount)\")\n",
    "plt.ylabel(\"Count of Trips\")\n",
    "plt.xlim(0.1,0.4)\n",
    "plt.savefig(\"../plots/Count of Trips by Tip Ratio\")\n",
    "plt.show()\n"
   ]
  },
  {
   "cell_type": "code",
   "execution_count": null,
   "metadata": {},
   "outputs": [],
   "source": [
    "plt.figure(figsize=(6,6))\n",
    "\n",
    "sns.distplot(yellow_standard_sample['tip_ratio'], bins=50)\n",
    "plt.title(\"Density of Trips by Tip Ratio\")\n",
    "plt.xlabel(\"Tip Ratio (by total amount)\")\n",
    "plt.xlim(0.1,0.4)\n",
    "plt.savefig(\"../plots/Density of Trips by Tip Ratio\")\n",
    "plt.show()\n"
   ]
  },
  {
   "cell_type": "markdown",
   "metadata": {},
   "source": [
    "#### Log transformation of amounts"
   ]
  },
  {
   "cell_type": "code",
   "execution_count": null,
   "metadata": {},
   "outputs": [],
   "source": [
    "from numpy import log, sqrt\n",
    "\n",
    "# apply a log transformation for all x non-zero x points, else 0\n",
    "def logify(x):\n",
    "    return log(x) if x else 0\n",
    "\n",
    "sns.distplot(yellow_standard_sample['fare_amount'].apply(logify), bins=50)\n",
    "plt.show()"
   ]
  },
  {
   "cell_type": "code",
   "execution_count": null,
   "metadata": {},
   "outputs": [],
   "source": [
    "from numpy import log, sqrt\n",
    "\n",
    "# apply a log transformation for all x non-zero x points, else 0\n",
    "def logify(x):\n",
    "    return log(x) if x else 0\n",
    "\n",
    "sns.distplot(yellow_standard_sample['total_amount'].apply(logify), bins=50)\n",
    "plt.show()"
   ]
  },
  {
   "cell_type": "code",
   "execution_count": null,
   "metadata": {},
   "outputs": [],
   "source": [
    "from numpy import log, sqrt\n",
    "\n",
    "# apply a log transformation for all x non-zero x points, else 0\n",
    "def logify(x):\n",
    "    return log(x) if x else 0\n",
    "\n",
    "sns.distplot(yellow_standard_sample['tip_amount'].apply(logify), bins=50)\n",
    "plt.show()"
   ]
  },
  {
   "cell_type": "code",
   "execution_count": null,
   "metadata": {},
   "outputs": [],
   "source": []
  },
  {
   "cell_type": "markdown",
   "metadata": {},
   "source": [
    "### Correlation"
   ]
  },
  {
   "cell_type": "code",
   "execution_count": null,
   "metadata": {},
   "outputs": [],
   "source": [
    "pairs = ['tip_amount', 'fare_amount', 'total_amount']\n",
    "\n",
    "sns.pairplot(yellow_standard_sample[pairs])\n",
    "plt.savefig(\"../plots/Pair plot between amounts\")\n",
    "\n",
    "plt.show()"
   ]
  },
  {
   "cell_type": "code",
   "execution_count": 112,
   "metadata": {},
   "outputs": [
    {
     "data": {
      "image/png": "[encoded data removed]",
      "text/plain": [
       "<Figure size 720x720 with 20 Axes>"
      ]
     },
     "metadata": {
      "needs_background": "light"
     },
     "output_type": "display_data"
    }
   ],
   "source": [
    "pairs = ['trip_distance', 'time_duration', 'fare_amount', 'tip_ratio']\n",
    "\n",
    "sns.pairplot(yellow_standard_sample[pairs])\n",
    "plt.savefig(\"../plots/Pair plot between distance duration fare tiptatio\")\n",
    "\n",
    "plt.show()"
   ]
  },
  {
   "cell_type": "code",
   "execution_count": 111,
   "metadata": {},
   "outputs": [
    {
     "data": {
      "image/png": "[encoded data removed]",
      "text/plain": [
       "<Figure size 432x288 with 1 Axes>"
      ]
     },
     "metadata": {
      "needs_background": "light"
     },
     "output_type": "display_data"
    }
   ],
   "source": [
    "yellow_standard_sample[['trip_distance','tip_ratio']].plot.scatter(x='trip_distance', y='tip_ratio')\n",
    "\n",
    "plt.show()"
   ]
  },
  {
   "cell_type": "code",
   "execution_count": null,
   "metadata": {},
   "outputs": [],
   "source": [
    "yellow_standard_sample[['fare_amount', 'trip_distance']].plot.scatter(x='fare_amount', y='trip_distance')\n",
    "\n",
    "plt.show()"
   ]
  },
  {
   "cell_type": "markdown",
   "metadata": {},
   "source": [
    "#### Correlation Heatmap"
   ]
  },
  {
   "cell_type": "code",
   "execution_count": null,
   "metadata": {},
   "outputs": [],
   "source": [
    "CORR_COLS = ['passenger_count', 'trip_distance', 'fare_amount', 'tip_amount', 'total_amount', 'time_duration', \n",
    "             'tip_ratio', 'fare/hour', 'mile/hour', 'AWND', 'PRCP', 'SNOW', 'SNWD', 'TAVG']\n",
    "\n",
    "yellow_standard_sample[CORR_COLS].corr()"
   ]
  },
  {
   "cell_type": "code",
   "execution_count": null,
   "metadata": {},
   "outputs": [],
   "source": [
    "sns.set(rc={'figure.figsize': (15,8)})\n",
    "\n",
    "sns.heatmap(yellow_standard_sample[CORR_COLS].corr(), annot=True, fmt='.2g', vmin=-1, vmax=1, center=0, linewidths=1, linecolor='white')\n",
    "\n",
    "plt.savefig(\"../plots/Correlation Heatmap\")\n",
    "plt.show()"
   ]
  },
  {
   "cell_type": "code",
   "execution_count": null,
   "metadata": {},
   "outputs": [],
   "source": []
  },
  {
   "cell_type": "markdown",
   "metadata": {},
   "source": [
    "## Statistical Modelling"
   ]
  },
  {
   "cell_type": "code",
   "execution_count": 1,
   "metadata": {},
   "outputs": [],
   "source": [
    "import matplotlib.pyplot as plt\n",
    "import numpy as np\n",
    "import pandas as pd\n",
    "import seaborn as sns\n",
    "import warnings\n",
    "\n",
    "from statsmodels.formula.api import *\n",
    "\n",
    "warnings.filterwarnings(\"ignore\")"
   ]
  },
  {
   "cell_type": "code",
   "execution_count": 24,
   "metadata": {},
   "outputs": [],
   "source": [
    "data = pd.read_feather(\"../preprocessed_data/yellow_standard_sample\")\n",
    "\n",
    "data = data.rename(columns={'mile/hour': 'mph'})"
   ]
  },
  {
   "cell_type": "code",
   "execution_count": 25,
   "metadata": {},
   "outputs": [
    {
     "data": {
      "text/html": [
       "<div>\n",
       "<style scoped>\n",
       "    .dataframe tbody tr th:only-of-type {\n",
       "        vertical-align: middle;\n",
       "    }\n",
       "\n",
       "    .dataframe tbody tr th {\n",
       "        vertical-align: top;\n",
       "    }\n",
       "\n",
       "    .dataframe thead th {\n",
       "        text-align: right;\n",
       "    }\n",
       "</style>\n",
       "<table border=\"1\" class=\"dataframe\">\n",
       "  <thead>\n",
       "    <tr style=\"text-align: right;\">\n",
       "      <th></th>\n",
       "      <th>tpep_pickup_datetime</th>\n",
       "      <th>tpep_dropoff_datetime</th>\n",
       "      <th>passenger_count</th>\n",
       "      <th>trip_distance</th>\n",
       "      <th>RatecodeID</th>\n",
       "      <th>PULocationID</th>\n",
       "      <th>DOLocationID</th>\n",
       "      <th>fare_amount</th>\n",
       "      <th>tip_amount</th>\n",
       "      <th>total_amount</th>\n",
       "      <th>...</th>\n",
       "      <th>day_type</th>\n",
       "      <th>tip_ratio</th>\n",
       "      <th>fare/hour</th>\n",
       "      <th>mph</th>\n",
       "      <th>AWND</th>\n",
       "      <th>PRCP</th>\n",
       "      <th>SNOW</th>\n",
       "      <th>SNWD</th>\n",
       "      <th>TAVG</th>\n",
       "      <th>WT</th>\n",
       "    </tr>\n",
       "  </thead>\n",
       "  <tbody>\n",
       "    <tr>\n",
       "      <th>0</th>\n",
       "      <td>2018-01-01 00:58:44</td>\n",
       "      <td>2018-01-01 01:09:53</td>\n",
       "      <td>1</td>\n",
       "      <td>1.50</td>\n",
       "      <td>1</td>\n",
       "      <td>170</td>\n",
       "      <td>79</td>\n",
       "      <td>8.5</td>\n",
       "      <td>1.96</td>\n",
       "      <td>11.76</td>\n",
       "      <td>...</td>\n",
       "      <td>Weekday</td>\n",
       "      <td>0.17</td>\n",
       "      <td>63.00</td>\n",
       "      <td>8.04</td>\n",
       "      <td>7.83</td>\n",
       "      <td>0.0</td>\n",
       "      <td>0.0</td>\n",
       "      <td>0.0</td>\n",
       "      <td>13.0</td>\n",
       "      <td>good</td>\n",
       "    </tr>\n",
       "    <tr>\n",
       "      <th>1</th>\n",
       "      <td>2018-01-01 18:33:14</td>\n",
       "      <td>2018-01-01 18:36:10</td>\n",
       "      <td>2</td>\n",
       "      <td>0.95</td>\n",
       "      <td>1</td>\n",
       "      <td>170</td>\n",
       "      <td>233</td>\n",
       "      <td>5.0</td>\n",
       "      <td>1.70</td>\n",
       "      <td>8.50</td>\n",
       "      <td>...</td>\n",
       "      <td>Weekday</td>\n",
       "      <td>0.20</td>\n",
       "      <td>175.86</td>\n",
       "      <td>19.66</td>\n",
       "      <td>7.83</td>\n",
       "      <td>0.0</td>\n",
       "      <td>0.0</td>\n",
       "      <td>0.0</td>\n",
       "      <td>13.0</td>\n",
       "      <td>good</td>\n",
       "    </tr>\n",
       "    <tr>\n",
       "      <th>2</th>\n",
       "      <td>2018-01-01 11:38:53</td>\n",
       "      <td>2018-01-01 11:57:09</td>\n",
       "      <td>2</td>\n",
       "      <td>3.90</td>\n",
       "      <td>1</td>\n",
       "      <td>162</td>\n",
       "      <td>211</td>\n",
       "      <td>16.0</td>\n",
       "      <td>3.35</td>\n",
       "      <td>20.15</td>\n",
       "      <td>...</td>\n",
       "      <td>Weekday</td>\n",
       "      <td>0.17</td>\n",
       "      <td>66.07</td>\n",
       "      <td>12.79</td>\n",
       "      <td>7.83</td>\n",
       "      <td>0.0</td>\n",
       "      <td>0.0</td>\n",
       "      <td>0.0</td>\n",
       "      <td>13.0</td>\n",
       "      <td>good</td>\n",
       "    </tr>\n",
       "    <tr>\n",
       "      <th>3</th>\n",
       "      <td>2018-01-01 20:32:58</td>\n",
       "      <td>2018-01-01 20:45:07</td>\n",
       "      <td>1</td>\n",
       "      <td>2.30</td>\n",
       "      <td>1</td>\n",
       "      <td>158</td>\n",
       "      <td>148</td>\n",
       "      <td>10.5</td>\n",
       "      <td>2.35</td>\n",
       "      <td>14.15</td>\n",
       "      <td>...</td>\n",
       "      <td>Weekday</td>\n",
       "      <td>0.17</td>\n",
       "      <td>69.59</td>\n",
       "      <td>11.31</td>\n",
       "      <td>7.83</td>\n",
       "      <td>0.0</td>\n",
       "      <td>0.0</td>\n",
       "      <td>0.0</td>\n",
       "      <td>13.0</td>\n",
       "      <td>good</td>\n",
       "    </tr>\n",
       "    <tr>\n",
       "      <th>4</th>\n",
       "      <td>2018-01-01 13:31:06</td>\n",
       "      <td>2018-01-01 13:36:05</td>\n",
       "      <td>1</td>\n",
       "      <td>1.10</td>\n",
       "      <td>1</td>\n",
       "      <td>68</td>\n",
       "      <td>186</td>\n",
       "      <td>6.0</td>\n",
       "      <td>1.35</td>\n",
       "      <td>8.15</td>\n",
       "      <td>...</td>\n",
       "      <td>Weekday</td>\n",
       "      <td>0.17</td>\n",
       "      <td>97.80</td>\n",
       "      <td>13.20</td>\n",
       "      <td>7.83</td>\n",
       "      <td>0.0</td>\n",
       "      <td>0.0</td>\n",
       "      <td>0.0</td>\n",
       "      <td>13.0</td>\n",
       "      <td>good</td>\n",
       "    </tr>\n",
       "    <tr>\n",
       "      <th>...</th>\n",
       "      <td>...</td>\n",
       "      <td>...</td>\n",
       "      <td>...</td>\n",
       "      <td>...</td>\n",
       "      <td>...</td>\n",
       "      <td>...</td>\n",
       "      <td>...</td>\n",
       "      <td>...</td>\n",
       "      <td>...</td>\n",
       "      <td>...</td>\n",
       "      <td>...</td>\n",
       "      <td>...</td>\n",
       "      <td>...</td>\n",
       "      <td>...</td>\n",
       "      <td>...</td>\n",
       "      <td>...</td>\n",
       "      <td>...</td>\n",
       "      <td>...</td>\n",
       "      <td>...</td>\n",
       "      <td>...</td>\n",
       "      <td>...</td>\n",
       "    </tr>\n",
       "    <tr>\n",
       "      <th>293011</th>\n",
       "      <td>2018-03-31 16:03:32</td>\n",
       "      <td>2018-03-31 16:11:05</td>\n",
       "      <td>1</td>\n",
       "      <td>1.00</td>\n",
       "      <td>1</td>\n",
       "      <td>163</td>\n",
       "      <td>142</td>\n",
       "      <td>6.5</td>\n",
       "      <td>1.00</td>\n",
       "      <td>8.30</td>\n",
       "      <td>...</td>\n",
       "      <td>Weekday</td>\n",
       "      <td>0.12</td>\n",
       "      <td>65.53</td>\n",
       "      <td>7.89</td>\n",
       "      <td>6.49</td>\n",
       "      <td>0.0</td>\n",
       "      <td>0.0</td>\n",
       "      <td>0.0</td>\n",
       "      <td>48.5</td>\n",
       "      <td>good</td>\n",
       "    </tr>\n",
       "    <tr>\n",
       "      <th>293012</th>\n",
       "      <td>2018-03-31 15:25:44</td>\n",
       "      <td>2018-03-31 15:41:37</td>\n",
       "      <td>1</td>\n",
       "      <td>2.22</td>\n",
       "      <td>1</td>\n",
       "      <td>211</td>\n",
       "      <td>164</td>\n",
       "      <td>11.5</td>\n",
       "      <td>2.46</td>\n",
       "      <td>14.76</td>\n",
       "      <td>...</td>\n",
       "      <td>Weekday</td>\n",
       "      <td>0.17</td>\n",
       "      <td>55.70</td>\n",
       "      <td>8.38</td>\n",
       "      <td>6.49</td>\n",
       "      <td>0.0</td>\n",
       "      <td>0.0</td>\n",
       "      <td>0.0</td>\n",
       "      <td>48.5</td>\n",
       "      <td>good</td>\n",
       "    </tr>\n",
       "    <tr>\n",
       "      <th>293013</th>\n",
       "      <td>2018-03-31 22:31:53</td>\n",
       "      <td>2018-03-31 22:44:02</td>\n",
       "      <td>1</td>\n",
       "      <td>1.94</td>\n",
       "      <td>1</td>\n",
       "      <td>48</td>\n",
       "      <td>164</td>\n",
       "      <td>10.0</td>\n",
       "      <td>2.26</td>\n",
       "      <td>13.56</td>\n",
       "      <td>...</td>\n",
       "      <td>Weekday</td>\n",
       "      <td>0.17</td>\n",
       "      <td>66.69</td>\n",
       "      <td>9.54</td>\n",
       "      <td>6.49</td>\n",
       "      <td>0.0</td>\n",
       "      <td>0.0</td>\n",
       "      <td>0.0</td>\n",
       "      <td>48.5</td>\n",
       "      <td>good</td>\n",
       "    </tr>\n",
       "    <tr>\n",
       "      <th>293014</th>\n",
       "      <td>2018-03-31 09:30:57</td>\n",
       "      <td>2018-03-31 09:37:37</td>\n",
       "      <td>1</td>\n",
       "      <td>1.20</td>\n",
       "      <td>1</td>\n",
       "      <td>43</td>\n",
       "      <td>239</td>\n",
       "      <td>7.0</td>\n",
       "      <td>1.80</td>\n",
       "      <td>9.60</td>\n",
       "      <td>...</td>\n",
       "      <td>Weekday</td>\n",
       "      <td>0.19</td>\n",
       "      <td>85.97</td>\n",
       "      <td>10.75</td>\n",
       "      <td>6.49</td>\n",
       "      <td>0.0</td>\n",
       "      <td>0.0</td>\n",
       "      <td>0.0</td>\n",
       "      <td>48.5</td>\n",
       "      <td>good</td>\n",
       "    </tr>\n",
       "    <tr>\n",
       "      <th>293015</th>\n",
       "      <td>2018-03-31 22:18:44</td>\n",
       "      <td>2018-03-31 22:27:08</td>\n",
       "      <td>1</td>\n",
       "      <td>1.33</td>\n",
       "      <td>1</td>\n",
       "      <td>148</td>\n",
       "      <td>209</td>\n",
       "      <td>7.5</td>\n",
       "      <td>1.00</td>\n",
       "      <td>9.80</td>\n",
       "      <td>...</td>\n",
       "      <td>Weekday</td>\n",
       "      <td>0.10</td>\n",
       "      <td>70.00</td>\n",
       "      <td>9.50</td>\n",
       "      <td>6.49</td>\n",
       "      <td>0.0</td>\n",
       "      <td>0.0</td>\n",
       "      <td>0.0</td>\n",
       "      <td>48.5</td>\n",
       "      <td>good</td>\n",
       "    </tr>\n",
       "  </tbody>\n",
       "</table>\n",
       "<p>293016 rows × 22 columns</p>\n",
       "</div>"
      ],
      "text/plain": [
       "       tpep_pickup_datetime tpep_dropoff_datetime  passenger_count  \\\n",
       "0       2018-01-01 00:58:44   2018-01-01 01:09:53                1   \n",
       "1       2018-01-01 18:33:14   2018-01-01 18:36:10                2   \n",
       "2       2018-01-01 11:38:53   2018-01-01 11:57:09                2   \n",
       "3       2018-01-01 20:32:58   2018-01-01 20:45:07                1   \n",
       "4       2018-01-01 13:31:06   2018-01-01 13:36:05                1   \n",
       "...                     ...                   ...              ...   \n",
       "293011  2018-03-31 16:03:32   2018-03-31 16:11:05                1   \n",
       "293012  2018-03-31 15:25:44   2018-03-31 15:41:37                1   \n",
       "293013  2018-03-31 22:31:53   2018-03-31 22:44:02                1   \n",
       "293014  2018-03-31 09:30:57   2018-03-31 09:37:37                1   \n",
       "293015  2018-03-31 22:18:44   2018-03-31 22:27:08                1   \n",
       "\n",
       "        trip_distance  RatecodeID  PULocationID  DOLocationID  fare_amount  \\\n",
       "0                1.50           1           170            79          8.5   \n",
       "1                0.95           1           170           233          5.0   \n",
       "2                3.90           1           162           211         16.0   \n",
       "3                2.30           1           158           148         10.5   \n",
       "4                1.10           1            68           186          6.0   \n",
       "...               ...         ...           ...           ...          ...   \n",
       "293011           1.00           1           163           142          6.5   \n",
       "293012           2.22           1           211           164         11.5   \n",
       "293013           1.94           1            48           164         10.0   \n",
       "293014           1.20           1            43           239          7.0   \n",
       "293015           1.33           1           148           209          7.5   \n",
       "\n",
       "        tip_amount  total_amount  ...  day_type tip_ratio fare/hour    mph  \\\n",
       "0             1.96         11.76  ...   Weekday      0.17     63.00   8.04   \n",
       "1             1.70          8.50  ...   Weekday      0.20    175.86  19.66   \n",
       "2             3.35         20.15  ...   Weekday      0.17     66.07  12.79   \n",
       "3             2.35         14.15  ...   Weekday      0.17     69.59  11.31   \n",
       "4             1.35          8.15  ...   Weekday      0.17     97.80  13.20   \n",
       "...            ...           ...  ...       ...       ...       ...    ...   \n",
       "293011        1.00          8.30  ...   Weekday      0.12     65.53   7.89   \n",
       "293012        2.46         14.76  ...   Weekday      0.17     55.70   8.38   \n",
       "293013        2.26         13.56  ...   Weekday      0.17     66.69   9.54   \n",
       "293014        1.80          9.60  ...   Weekday      0.19     85.97  10.75   \n",
       "293015        1.00          9.80  ...   Weekday      0.10     70.00   9.50   \n",
       "\n",
       "        AWND  PRCP  SNOW  SNWD  TAVG    WT  \n",
       "0       7.83   0.0   0.0   0.0  13.0  good  \n",
       "1       7.83   0.0   0.0   0.0  13.0  good  \n",
       "2       7.83   0.0   0.0   0.0  13.0  good  \n",
       "3       7.83   0.0   0.0   0.0  13.0  good  \n",
       "4       7.83   0.0   0.0   0.0  13.0  good  \n",
       "...      ...   ...   ...   ...   ...   ...  \n",
       "293011  6.49   0.0   0.0   0.0  48.5  good  \n",
       "293012  6.49   0.0   0.0   0.0  48.5  good  \n",
       "293013  6.49   0.0   0.0   0.0  48.5  good  \n",
       "293014  6.49   0.0   0.0   0.0  48.5  good  \n",
       "293015  6.49   0.0   0.0   0.0  48.5  good  \n",
       "\n",
       "[293016 rows x 22 columns]"
      ]
     },
     "execution_count": 25,
     "metadata": {},
     "output_type": "execute_result"
    }
   ],
   "source": [
    "data"
   ]
  },
  {
   "cell_type": "code",
   "execution_count": 26,
   "metadata": {},
   "outputs": [],
   "source": [
    "# Split data for validation\n",
    "\n",
    "train_data = data.groupby('pickup_date').sample(frac=0.8, random_state=1)\n",
    "\n",
    "test_data = data.drop(train_data.index)"
   ]
  },
  {
   "cell_type": "markdown",
   "metadata": {},
   "source": [
    "Remove datetime;\n",
    "\n",
    "Remove total amount as tip amount has strong relationship with it (ratio to it)."
   ]
  },
  {
   "cell_type": "code",
   "execution_count": 28,
   "metadata": {},
   "outputs": [],
   "source": [
    "COL_FILTER = ['passenger_count', 'total_amount', 'fare_amount', 'tip_amount', 'trip_distance', 'time_duration', \n",
    "              'day_type', 'mph', 'AWND', 'PRCP', 'SNOW', 'SNWD', 'TAVG', 'WT']\n",
    "\n",
    "train_data = train_data[COL_FILTER]\n",
    "test_data = test_data[COL_FILTER]"
   ]
  },
  {
   "cell_type": "code",
   "execution_count": 29,
   "metadata": {},
   "outputs": [],
   "source": [
    "train_data = train_data.reset_index().drop('index', axis=1)\n",
    "test_data = test_data.reset_index().drop('index', axis=1)\n",
    "\n",
    "train_data.to_feather(\"../preprocessed_data/train_data\")\n",
    "test_data.to_feather(\"../preprocessed_data/test_data\")"
   ]
  },
  {
   "cell_type": "markdown",
   "metadata": {},
   "source": [
    "### Visualisation on tip amount"
   ]
  },
  {
   "cell_type": "code",
   "execution_count": 31,
   "metadata": {},
   "outputs": [
    {
     "data": {
      "image/png": "[encoded data removed]",
      "text/plain": [
       "<Figure size 432x432 with 1 Axes>"
      ]
     },
     "metadata": {
      "needs_background": "light"
     },
     "output_type": "display_data"
    }
   ],
   "source": [
    "plt.figure(figsize=(6,6))\n",
    "sns.distplot(data['tip_amount'], bins=50)\n",
    "plt.title(\"Density of Trips by Tip Amount\")\n",
    "plt.xlabel(\"Tip Amount\")\n",
    "\n",
    "plt.show()\n"
   ]
  },
  {
   "cell_type": "markdown",
   "metadata": {},
   "source": [
    "### Find fitter distribution\n",
    "https://towardsdatascience.com/finding-the-best-distribution-that-fits-your-data-using-pythons-fitter-library-319a5a0972e9\n",
    "\n",
    "Large dataset could not be run successfully, so sample dataset is used. "
   ]
  },
  {
   "cell_type": "code",
   "execution_count": 34,
   "metadata": {},
   "outputs": [
    {
     "data": {
      "text/html": [
       "\n",
       "            <div style=\"float: left; border: 1px solid black; width:500px\">\n",
       "              <div id=\"5abb5871-7468-4ad4-ac35-b22f808ad6b4\" style=\"background-color:blue; width:0%\">&nbsp;</div>\n",
       "            </div>\n",
       "            <label id=\"a135ab89-0c52-4db0-bb7c-449283a28562\" style=\"padding-left: 10px;\" text = \"\"/>\n",
       "            "
      ],
      "text/plain": [
       "<IPython.core.display.HTML object>"
      ]
     },
     "metadata": {},
     "output_type": "display_data"
    },
    {
     "data": {
      "text/html": [
       "<div>\n",
       "<style scoped>\n",
       "    .dataframe tbody tr th:only-of-type {\n",
       "        vertical-align: middle;\n",
       "    }\n",
       "\n",
       "    .dataframe tbody tr th {\n",
       "        vertical-align: top;\n",
       "    }\n",
       "\n",
       "    .dataframe thead th {\n",
       "        text-align: right;\n",
       "    }\n",
       "</style>\n",
       "<table border=\"1\" class=\"dataframe\">\n",
       "  <thead>\n",
       "    <tr style=\"text-align: right;\">\n",
       "      <th></th>\n",
       "      <th>sumsquare_error</th>\n",
       "      <th>aic</th>\n",
       "      <th>bic</th>\n",
       "      <th>kl_div</th>\n",
       "    </tr>\n",
       "  </thead>\n",
       "  <tbody>\n",
       "    <tr>\n",
       "      <th>lognorm</th>\n",
       "      <td>1.678565</td>\n",
       "      <td>604.637571</td>\n",
       "      <td>-3.536678e+06</td>\n",
       "      <td>0.178062</td>\n",
       "    </tr>\n",
       "    <tr>\n",
       "      <th>beta</th>\n",
       "      <td>1.728674</td>\n",
       "      <td>631.777845</td>\n",
       "      <td>-3.528046e+06</td>\n",
       "      <td>0.192923</td>\n",
       "    </tr>\n",
       "    <tr>\n",
       "      <th>gamma</th>\n",
       "      <td>1.729104</td>\n",
       "      <td>628.328912</td>\n",
       "      <td>-3.527986e+06</td>\n",
       "      <td>0.193168</td>\n",
       "    </tr>\n",
       "    <tr>\n",
       "      <th>norm</th>\n",
       "      <td>2.389498</td>\n",
       "      <td>800.012588</td>\n",
       "      <td>-3.433214e+06</td>\n",
       "      <td>0.304381</td>\n",
       "    </tr>\n",
       "  </tbody>\n",
       "</table>\n",
       "</div>"
      ],
      "text/plain": [
       "         sumsquare_error         aic           bic    kl_div\n",
       "lognorm         1.678565  604.637571 -3.536678e+06  0.178062\n",
       "beta            1.728674  631.777845 -3.528046e+06  0.192923\n",
       "gamma           1.729104  628.328912 -3.527986e+06  0.193168\n",
       "norm            2.389498  800.012588 -3.433214e+06  0.304381"
      ]
     },
     "execution_count": 34,
     "metadata": {},
     "output_type": "execute_result"
    },
    {
     "data": {
      "image/png": "[encoded data removed]",
      "text/plain": [
       "<Figure size 432x288 with 1 Axes>"
      ]
     },
     "metadata": {
      "needs_background": "light"
     },
     "output_type": "display_data"
    }
   ],
   "source": [
    "from fitter import Fitter\n",
    "\n",
    "tip = data['tip_amount'].values\n",
    "\n",
    "f = Fitter(tip, distributions=['gamma', 'lognorm', 'beta', 'norm'])\n",
    "f.fit()\n",
    "\n",
    "f.summary()"
   ]
  },
  {
   "cell_type": "code",
   "execution_count": 15,
   "metadata": {},
   "outputs": [
    {
     "data": {
      "text/plain": [
       "{'norm': (2.2473278634842493, 1.1158257055633767)}"
      ]
     },
     "execution_count": 15,
     "metadata": {},
     "output_type": "execute_result"
    }
   ],
   "source": [
    "f.get_best(method = 'sumsquare_error')"
   ]
  },
  {
   "cell_type": "code",
   "execution_count": 19,
   "metadata": {},
   "outputs": [
    {
     "data": {
      "text/plain": [
       "(2.767519530655653, 2157859.72757468, 0.495444899929665, 1368243.1637088843)"
      ]
     },
     "execution_count": 19,
     "metadata": {},
     "output_type": "execute_result"
    }
   ],
   "source": [
    "f.fitted_param[\"beta\"]"
   ]
  },
  {
   "cell_type": "code",
   "execution_count": null,
   "metadata": {},
   "outputs": [],
   "source": []
  },
  {
   "cell_type": "markdown",
   "metadata": {},
   "source": [
    "### Fitting GLM with different exponential families"
   ]
  },
  {
   "cell_type": "markdown",
   "metadata": {},
   "source": [
    "#### Inverse Gaussian distribution with log link function"
   ]
  },
  {
   "cell_type": "markdown",
   "metadata": {},
   "source": [
    "https://stats.stackexchange.com/questions/190763/how-to-decide-which-glm-family-to-use\n",
    "\n",
    "If you are dealing with continuous non-negative outcome, then you could consider the Gamma distribution, or Inverse Gaussian distribution."
   ]
  },
  {
   "cell_type": "markdown",
   "metadata": {},
   "source": [
    "log-linear fit to the Gaussian is unsuitable; there's strong heteroskedasticity in the residuals. "
   ]
  },
  {
   "cell_type": "code",
   "execution_count": 99,
   "metadata": {},
   "outputs": [],
   "source": [
    "train_data = pd.read_feather(\"../preprocessed_data/train_data\")"
   ]
  },
  {
   "cell_type": "code",
   "execution_count": 100,
   "metadata": {},
   "outputs": [
    {
     "data": {
      "text/html": [
       "<div>\n",
       "<style scoped>\n",
       "    .dataframe tbody tr th:only-of-type {\n",
       "        vertical-align: middle;\n",
       "    }\n",
       "\n",
       "    .dataframe tbody tr th {\n",
       "        vertical-align: top;\n",
       "    }\n",
       "\n",
       "    .dataframe thead th {\n",
       "        text-align: right;\n",
       "    }\n",
       "</style>\n",
       "<table border=\"1\" class=\"dataframe\">\n",
       "  <thead>\n",
       "    <tr style=\"text-align: right;\">\n",
       "      <th></th>\n",
       "      <th>passenger_count</th>\n",
       "      <th>total_amount</th>\n",
       "      <th>fare_amount</th>\n",
       "      <th>tip_amount</th>\n",
       "      <th>trip_distance</th>\n",
       "      <th>time_duration</th>\n",
       "      <th>day_type</th>\n",
       "      <th>mph</th>\n",
       "      <th>AWND</th>\n",
       "      <th>PRCP</th>\n",
       "      <th>SNOW</th>\n",
       "      <th>SNWD</th>\n",
       "      <th>TAVG</th>\n",
       "      <th>WT</th>\n",
       "    </tr>\n",
       "  </thead>\n",
       "  <tbody>\n",
       "    <tr>\n",
       "      <th>0</th>\n",
       "      <td>1</td>\n",
       "      <td>7.55</td>\n",
       "      <td>5.0</td>\n",
       "      <td>1.25</td>\n",
       "      <td>0.90</td>\n",
       "      <td>3.9</td>\n",
       "      <td>Weekday</td>\n",
       "      <td>13.85</td>\n",
       "      <td>7.83</td>\n",
       "      <td>0.0</td>\n",
       "      <td>0.0</td>\n",
       "      <td>0.0</td>\n",
       "      <td>13.0</td>\n",
       "      <td>good</td>\n",
       "    </tr>\n",
       "    <tr>\n",
       "      <th>1</th>\n",
       "      <td>1</td>\n",
       "      <td>8.15</td>\n",
       "      <td>6.0</td>\n",
       "      <td>1.35</td>\n",
       "      <td>0.90</td>\n",
       "      <td>5.4</td>\n",
       "      <td>Weekday</td>\n",
       "      <td>10.00</td>\n",
       "      <td>7.83</td>\n",
       "      <td>0.0</td>\n",
       "      <td>0.0</td>\n",
       "      <td>0.0</td>\n",
       "      <td>13.0</td>\n",
       "      <td>good</td>\n",
       "    </tr>\n",
       "    <tr>\n",
       "      <th>2</th>\n",
       "      <td>1</td>\n",
       "      <td>12.00</td>\n",
       "      <td>9.0</td>\n",
       "      <td>1.70</td>\n",
       "      <td>1.70</td>\n",
       "      <td>9.6</td>\n",
       "      <td>Weekday</td>\n",
       "      <td>10.62</td>\n",
       "      <td>7.83</td>\n",
       "      <td>0.0</td>\n",
       "      <td>0.0</td>\n",
       "      <td>0.0</td>\n",
       "      <td>13.0</td>\n",
       "      <td>good</td>\n",
       "    </tr>\n",
       "    <tr>\n",
       "      <th>3</th>\n",
       "      <td>1</td>\n",
       "      <td>29.64</td>\n",
       "      <td>22.0</td>\n",
       "      <td>6.84</td>\n",
       "      <td>6.87</td>\n",
       "      <td>18.0</td>\n",
       "      <td>Weekday</td>\n",
       "      <td>22.90</td>\n",
       "      <td>7.83</td>\n",
       "      <td>0.0</td>\n",
       "      <td>0.0</td>\n",
       "      <td>0.0</td>\n",
       "      <td>13.0</td>\n",
       "      <td>good</td>\n",
       "    </tr>\n",
       "    <tr>\n",
       "      <th>4</th>\n",
       "      <td>1</td>\n",
       "      <td>19.56</td>\n",
       "      <td>15.0</td>\n",
       "      <td>3.26</td>\n",
       "      <td>4.33</td>\n",
       "      <td>12.6</td>\n",
       "      <td>Weekday</td>\n",
       "      <td>20.62</td>\n",
       "      <td>7.83</td>\n",
       "      <td>0.0</td>\n",
       "      <td>0.0</td>\n",
       "      <td>0.0</td>\n",
       "      <td>13.0</td>\n",
       "      <td>good</td>\n",
       "    </tr>\n",
       "    <tr>\n",
       "      <th>...</th>\n",
       "      <td>...</td>\n",
       "      <td>...</td>\n",
       "      <td>...</td>\n",
       "      <td>...</td>\n",
       "      <td>...</td>\n",
       "      <td>...</td>\n",
       "      <td>...</td>\n",
       "      <td>...</td>\n",
       "      <td>...</td>\n",
       "      <td>...</td>\n",
       "      <td>...</td>\n",
       "      <td>...</td>\n",
       "      <td>...</td>\n",
       "      <td>...</td>\n",
       "    </tr>\n",
       "    <tr>\n",
       "      <th>234408</th>\n",
       "      <td>1</td>\n",
       "      <td>23.75</td>\n",
       "      <td>17.0</td>\n",
       "      <td>5.45</td>\n",
       "      <td>4.10</td>\n",
       "      <td>21.0</td>\n",
       "      <td>Weekday</td>\n",
       "      <td>11.71</td>\n",
       "      <td>6.49</td>\n",
       "      <td>0.0</td>\n",
       "      <td>0.0</td>\n",
       "      <td>0.0</td>\n",
       "      <td>48.5</td>\n",
       "      <td>good</td>\n",
       "    </tr>\n",
       "    <tr>\n",
       "      <th>234409</th>\n",
       "      <td>1</td>\n",
       "      <td>29.75</td>\n",
       "      <td>23.5</td>\n",
       "      <td>4.95</td>\n",
       "      <td>7.40</td>\n",
       "      <td>23.6</td>\n",
       "      <td>Weekday</td>\n",
       "      <td>18.81</td>\n",
       "      <td>6.49</td>\n",
       "      <td>0.0</td>\n",
       "      <td>0.0</td>\n",
       "      <td>0.0</td>\n",
       "      <td>48.5</td>\n",
       "      <td>good</td>\n",
       "    </tr>\n",
       "    <tr>\n",
       "      <th>234410</th>\n",
       "      <td>2</td>\n",
       "      <td>31.56</td>\n",
       "      <td>25.0</td>\n",
       "      <td>5.26</td>\n",
       "      <td>7.38</td>\n",
       "      <td>28.1</td>\n",
       "      <td>Weekday</td>\n",
       "      <td>15.76</td>\n",
       "      <td>6.49</td>\n",
       "      <td>0.0</td>\n",
       "      <td>0.0</td>\n",
       "      <td>0.0</td>\n",
       "      <td>48.5</td>\n",
       "      <td>good</td>\n",
       "    </tr>\n",
       "    <tr>\n",
       "      <th>234411</th>\n",
       "      <td>2</td>\n",
       "      <td>9.95</td>\n",
       "      <td>7.0</td>\n",
       "      <td>1.65</td>\n",
       "      <td>1.00</td>\n",
       "      <td>7.9</td>\n",
       "      <td>Weekday</td>\n",
       "      <td>7.59</td>\n",
       "      <td>6.49</td>\n",
       "      <td>0.0</td>\n",
       "      <td>0.0</td>\n",
       "      <td>0.0</td>\n",
       "      <td>48.5</td>\n",
       "      <td>good</td>\n",
       "    </tr>\n",
       "    <tr>\n",
       "      <th>234412</th>\n",
       "      <td>1</td>\n",
       "      <td>16.60</td>\n",
       "      <td>12.5</td>\n",
       "      <td>3.30</td>\n",
       "      <td>2.50</td>\n",
       "      <td>16.4</td>\n",
       "      <td>Weekday</td>\n",
       "      <td>9.15</td>\n",
       "      <td>6.49</td>\n",
       "      <td>0.0</td>\n",
       "      <td>0.0</td>\n",
       "      <td>0.0</td>\n",
       "      <td>48.5</td>\n",
       "      <td>good</td>\n",
       "    </tr>\n",
       "  </tbody>\n",
       "</table>\n",
       "<p>234413 rows × 14 columns</p>\n",
       "</div>"
      ],
      "text/plain": [
       "        passenger_count  total_amount  fare_amount  tip_amount  trip_distance  \\\n",
       "0                     1          7.55          5.0        1.25           0.90   \n",
       "1                     1          8.15          6.0        1.35           0.90   \n",
       "2                     1         12.00          9.0        1.70           1.70   \n",
       "3                     1         29.64         22.0        6.84           6.87   \n",
       "4                     1         19.56         15.0        3.26           4.33   \n",
       "...                 ...           ...          ...         ...            ...   \n",
       "234408                1         23.75         17.0        5.45           4.10   \n",
       "234409                1         29.75         23.5        4.95           7.40   \n",
       "234410                2         31.56         25.0        5.26           7.38   \n",
       "234411                2          9.95          7.0        1.65           1.00   \n",
       "234412                1         16.60         12.5        3.30           2.50   \n",
       "\n",
       "        time_duration day_type    mph  AWND  PRCP  SNOW  SNWD  TAVG    WT  \n",
       "0                 3.9  Weekday  13.85  7.83   0.0   0.0   0.0  13.0  good  \n",
       "1                 5.4  Weekday  10.00  7.83   0.0   0.0   0.0  13.0  good  \n",
       "2                 9.6  Weekday  10.62  7.83   0.0   0.0   0.0  13.0  good  \n",
       "3                18.0  Weekday  22.90  7.83   0.0   0.0   0.0  13.0  good  \n",
       "4                12.6  Weekday  20.62  7.83   0.0   0.0   0.0  13.0  good  \n",
       "...               ...      ...    ...   ...   ...   ...   ...   ...   ...  \n",
       "234408           21.0  Weekday  11.71  6.49   0.0   0.0   0.0  48.5  good  \n",
       "234409           23.6  Weekday  18.81  6.49   0.0   0.0   0.0  48.5  good  \n",
       "234410           28.1  Weekday  15.76  6.49   0.0   0.0   0.0  48.5  good  \n",
       "234411            7.9  Weekday   7.59  6.49   0.0   0.0   0.0  48.5  good  \n",
       "234412           16.4  Weekday   9.15  6.49   0.0   0.0   0.0  48.5  good  \n",
       "\n",
       "[234413 rows x 14 columns]"
      ]
     },
     "execution_count": 100,
     "metadata": {},
     "output_type": "execute_result"
    }
   ],
   "source": [
    "train_data"
   ]
  },
  {
   "cell_type": "code",
   "execution_count": 101,
   "metadata": {},
   "outputs": [
    {
     "name": "stdout",
     "output_type": "stream",
     "text": [
      "                 Generalized Linear Model Regression Results                  \n",
      "==============================================================================\n",
      "Dep. Variable:             tip_amount   No. Observations:               234413\n",
      "Model:                            GLM   Df Residuals:                   234400\n",
      "Model Family:         InverseGaussian   Df Model:                           12\n",
      "Link Function:                    log   Scale:                        0.035270\n",
      "Method:                          IRLS   Log-Likelihood:            -1.6851e+05\n",
      "Date:                Sun, 15 Aug 2021   Deviance:                       6910.1\n",
      "Time:                        15:43:38   Pearson chi2:                 8.27e+03\n",
      "No. Iterations:                    22                                         \n",
      "Covariance Type:            nonrobust                                         \n",
      "=======================================================================================\n",
      "                          coef    std err          z      P>|z|      [0.025      0.975]\n",
      "---------------------------------------------------------------------------------------\n",
      "Intercept              -0.0892      0.006    -15.216      0.000      -0.101      -0.078\n",
      "day_type[T.Weekend]    -0.0232      0.002    -13.428      0.000      -0.027      -0.020\n",
      "WT[T.good]             -0.0013      0.001     -0.994      0.320      -0.004       0.001\n",
      "passenger_count         0.0020      0.000      4.664      0.000       0.001       0.003\n",
      "fare_amount             0.0571      0.001     39.077      0.000       0.054       0.060\n",
      "trip_distance           0.0276      0.003      9.481      0.000       0.022       0.033\n",
      "time_duration           0.0180      0.001     29.987      0.000       0.017       0.019\n",
      "mph                     0.0007      0.000      2.985      0.003       0.000       0.001\n",
      "AWND                   -0.0005      0.000     -1.727      0.084      -0.001    6.17e-05\n",
      "PRCP                   -0.0016      0.002     -0.810      0.418      -0.006       0.002\n",
      "SNOW                    0.0042      0.001      7.659      0.000       0.003       0.005\n",
      "SNWD                    0.0007      0.000      1.958      0.050   -7.44e-07       0.001\n",
      "TAVG                 3.126e-05   6.65e-05      0.470      0.639   -9.92e-05       0.000\n",
      "=======================================================================================\n"
     ]
    }
   ],
   "source": [
    "from statsmodels.api import families\n",
    "\n",
    "fit_ig = glm(formula=\"tip_amount ~ passenger_count + fare_amount + trip_distance + time_duration + day_type + mph + AWND + PRCP + SNOW + SNWD + TAVG + WT\",\n",
    "         data=train_data, family=families.InverseGaussian(link=families.links.log)).fit()\n",
    "\n",
    "print(fit_ig.summary())\n"
   ]
  },
  {
   "cell_type": "code",
   "execution_count": 36,
   "metadata": {},
   "outputs": [
    {
     "name": "stdout",
     "output_type": "stream",
     "text": [
      "                 Generalized Linear Model Regression Results                  \n",
      "==============================================================================\n",
      "Dep. Variable:             tip_amount   No. Observations:               234413\n",
      "Model:                            GLM   Df Residuals:                   234405\n",
      "Model Family:         InverseGaussian   Df Model:                            7\n",
      "Link Function:                    log   Scale:                        0.035271\n",
      "Method:                          IRLS   Log-Likelihood:            -1.6851e+05\n",
      "Date:                Sun, 15 Aug 2021   Deviance:                       6910.4\n",
      "Time:                        15:09:10   Pearson chi2:                 8.27e+03\n",
      "No. Iterations:                    22                                         \n",
      "Covariance Type:            nonrobust                                         \n",
      "=======================================================================================\n",
      "                          coef    std err          z      P>|z|      [0.025      0.975]\n",
      "---------------------------------------------------------------------------------------\n",
      "Intercept              -0.0914      0.004    -20.656      0.000      -0.100      -0.083\n",
      "day_type[T.Weekend]    -0.0231      0.002    -13.867      0.000      -0.026      -0.020\n",
      "passenger_count         0.0020      0.000      4.618      0.000       0.001       0.003\n",
      "fare_amount             0.0571      0.001     39.080      0.000       0.054       0.060\n",
      "trip_distance           0.0276      0.003      9.486      0.000       0.022       0.033\n",
      "time_duration           0.0180      0.001     30.005      0.000       0.017       0.019\n",
      "mph                     0.0007      0.000      2.979      0.003       0.000       0.001\n",
      "SNOW                    0.0039      0.000      7.915      0.000       0.003       0.005\n",
      "=======================================================================================\n"
     ]
    }
   ],
   "source": [
    "fitter_ig = glm(formula=\"tip_amount ~ passenger_count + fare_amount + trip_distance + time_duration + day_type + mph + SNOW\",\n",
    "         data=train_data, family=families.InverseGaussian(link=families.links.log)).fit()\n",
    "\n",
    "print(fitter_ig.summary())\n"
   ]
  },
  {
   "cell_type": "markdown",
   "metadata": {},
   "source": [
    "Include the interaction\n",
    "\n",
    "https://quantifyinghealth.com/why-and-when-to-include-interactions-in-a-regression-model/"
   ]
  },
  {
   "cell_type": "code",
   "execution_count": 37,
   "metadata": {},
   "outputs": [
    {
     "name": "stdout",
     "output_type": "stream",
     "text": [
      "                 Generalized Linear Model Regression Results                  \n",
      "==============================================================================\n",
      "Dep. Variable:             tip_amount   No. Observations:               234413\n",
      "Model:                            GLM   Df Residuals:                   234404\n",
      "Model Family:         InverseGaussian   Df Model:                            8\n",
      "Link Function:                    log   Scale:                        0.034641\n",
      "Method:                          IRLS   Log-Likelihood:            -1.6122e+05\n",
      "Date:                Sun, 15 Aug 2021   Deviance:                       6427.9\n",
      "Time:                        15:09:16   Pearson chi2:                 8.12e+03\n",
      "No. Iterations:                    22                                         \n",
      "Covariance Type:            nonrobust                                         \n",
      "=============================================================================================\n",
      "                                coef    std err          z      P>|z|      [0.025      0.975]\n",
      "---------------------------------------------------------------------------------------------\n",
      "Intercept                    -0.2400      0.004    -56.668      0.000      -0.248      -0.232\n",
      "day_type[T.Weekend]          -0.0282      0.002    -17.100      0.000      -0.031      -0.025\n",
      "passenger_count               0.0021      0.000      4.795      0.000       0.001       0.003\n",
      "fare_amount                   0.1067      0.001     86.876      0.000       0.104       0.109\n",
      "trip_distance                 0.1716      0.003     59.178      0.000       0.166       0.177\n",
      "fare_amount:trip_distance    -0.0097   7.56e-05   -128.578      0.000      -0.010      -0.010\n",
      "time_duration                -0.0068      0.000    -13.860      0.000      -0.008      -0.006\n",
      "mph                          -0.0081      0.000    -33.574      0.000      -0.009      -0.008\n",
      "SNOW                          0.0041      0.000      8.381      0.000       0.003       0.005\n",
      "=============================================================================================\n"
     ]
    }
   ],
   "source": [
    "fitter_interaction_ig = glm(formula=\"tip_amount ~ passenger_count + fare_amount*trip_distance + time_duration + day_type + mph + SNOW\",\n",
    "         data=train_data, family=families.InverseGaussian(link=families.links.log)).fit()\n",
    "\n",
    "print(fitter_interaction_ig.summary())"
   ]
  },
  {
   "cell_type": "code",
   "execution_count": 38,
   "metadata": {},
   "outputs": [
    {
     "data": {
      "text/plain": [
       "([337042.2441017114, 337042.21663325, 322455.44224668544],\n",
       " [-2891408.386184715, -2891469.873248125, -2891939.964473839])"
      ]
     },
     "execution_count": 38,
     "metadata": {},
     "output_type": "execute_result"
    }
   ],
   "source": [
    "[fit_ig.aic, fitter_ig.aic,fitter_interaction_ig.aic], [fit_ig.bic, fitter_ig.bic,fitter_interaction_ig.bic]"
   ]
  },
  {
   "cell_type": "code",
   "execution_count": null,
   "metadata": {},
   "outputs": [],
   "source": []
  },
  {
   "cell_type": "markdown",
   "metadata": {},
   "source": [
    "#### Gamma distribution with log link function"
   ]
  },
  {
   "cell_type": "code",
   "execution_count": 39,
   "metadata": {},
   "outputs": [
    {
     "name": "stdout",
     "output_type": "stream",
     "text": [
      "                 Generalized Linear Model Regression Results                  \n",
      "==============================================================================\n",
      "Dep. Variable:             tip_amount   No. Observations:               234413\n",
      "Model:                            GLM   Df Residuals:                   234400\n",
      "Model Family:                   Gamma   Df Model:                           12\n",
      "Link Function:                    log   Scale:                        0.063202\n",
      "Method:                          IRLS   Log-Likelihood:            -1.6190e+05\n",
      "Date:                Sun, 15 Aug 2021   Deviance:                       13163.\n",
      "Time:                        15:09:36   Pearson chi2:                 1.48e+04\n",
      "No. Iterations:                    16                                         \n",
      "Covariance Type:            nonrobust                                         \n",
      "=======================================================================================\n",
      "                          coef    std err          z      P>|z|      [0.025      0.975]\n",
      "---------------------------------------------------------------------------------------\n",
      "Intercept              -0.0285      0.005     -5.440      0.000      -0.039      -0.018\n",
      "day_type[T.Weekend]    -0.0218      0.002    -12.807      0.000      -0.025      -0.018\n",
      "WT[T.good]             -0.0012      0.001     -0.946      0.344      -0.004       0.001\n",
      "passenger_count         0.0020      0.000      4.870      0.000       0.001       0.003\n",
      "fare_amount             0.0585      0.001     56.139      0.000       0.056       0.061\n",
      "trip_distance           0.0116      0.002      5.270      0.000       0.007       0.016\n",
      "time_duration           0.0127      0.000     30.311      0.000       0.012       0.014\n",
      "mph                     0.0017      0.000      7.220      0.000       0.001       0.002\n",
      "AWND                   -0.0005      0.000     -2.062      0.039      -0.001    -2.6e-05\n",
      "PRCP                   -0.0013      0.002     -0.681      0.496      -0.005       0.002\n",
      "SNOW                    0.0036      0.001      6.584      0.000       0.003       0.005\n",
      "SNWD                    0.0008      0.000      2.282      0.022       0.000       0.001\n",
      "TAVG                 -1.43e-05   6.41e-05     -0.223      0.824      -0.000       0.000\n",
      "=======================================================================================\n"
     ]
    }
   ],
   "source": [
    "from statsmodels.api import families\n",
    "\n",
    "fit_ga = glm(formula=\"tip_amount ~ passenger_count + fare_amount + trip_distance + time_duration + day_type + mph + AWND + PRCP + SNOW + SNWD + TAVG + WT\",\n",
    "         data=train_data, family=families.Gamma(link=families.links.log)).fit()\n",
    "\n",
    "print(fit_ga.summary())\n"
   ]
  },
  {
   "cell_type": "code",
   "execution_count": 40,
   "metadata": {},
   "outputs": [
    {
     "name": "stdout",
     "output_type": "stream",
     "text": [
      "                 Generalized Linear Model Regression Results                  \n",
      "==============================================================================\n",
      "Dep. Variable:             tip_amount   No. Observations:               234413\n",
      "Model:                            GLM   Df Residuals:                   234403\n",
      "Model Family:                   Gamma   Df Model:                            9\n",
      "Link Function:                    log   Scale:                        0.063202\n",
      "Method:                          IRLS   Log-Likelihood:            -1.6190e+05\n",
      "Date:                Sun, 15 Aug 2021   Deviance:                       13163.\n",
      "Time:                        15:10:02   Pearson chi2:                 1.48e+04\n",
      "No. Iterations:                    16                                         \n",
      "Covariance Type:            nonrobust                                         \n",
      "=======================================================================================\n",
      "                          coef    std err          z      P>|z|      [0.025      0.975]\n",
      "---------------------------------------------------------------------------------------\n",
      "Intercept              -0.0298      0.004     -7.368      0.000      -0.038      -0.022\n",
      "day_type[T.Weekend]    -0.0220      0.002    -13.330      0.000      -0.025      -0.019\n",
      "passenger_count         0.0020      0.000      4.864      0.000       0.001       0.003\n",
      "fare_amount             0.0585      0.001     56.147      0.000       0.056       0.061\n",
      "trip_distance           0.0115      0.002      5.269      0.000       0.007       0.016\n",
      "time_duration           0.0127      0.000     30.307      0.000       0.012       0.014\n",
      "mph                     0.0017      0.000      7.230      0.000       0.001       0.002\n",
      "AWND                   -0.0005      0.000     -2.261      0.024      -0.001   -7.18e-05\n",
      "SNOW                    0.0035      0.000      7.149      0.000       0.003       0.004\n",
      "SNWD                    0.0008      0.000      2.527      0.011       0.000       0.001\n",
      "=======================================================================================\n"
     ]
    }
   ],
   "source": [
    "fitter_ga = glm(formula=\"tip_amount ~ passenger_count + fare_amount + trip_distance + time_duration + day_type + mph + AWND + SNOW + SNWD\",\n",
    "         data=train_data, family=families.Gamma(link=families.links.log)).fit()\n",
    "\n",
    "print(fitter_ga.summary())\n"
   ]
  },
  {
   "cell_type": "code",
   "execution_count": 41,
   "metadata": {},
   "outputs": [
    {
     "name": "stdout",
     "output_type": "stream",
     "text": [
      "                 Generalized Linear Model Regression Results                  \n",
      "==============================================================================\n",
      "Dep. Variable:             tip_amount   No. Observations:               234413\n",
      "Model:                            GLM   Df Residuals:                   234403\n",
      "Model Family:                   Gamma   Df Model:                            9\n",
      "Link Function:                    log   Scale:                        0.058990\n",
      "Method:                          IRLS   Log-Likelihood:            -1.4909e+05\n",
      "Date:                Sun, 15 Aug 2021   Deviance:                       11738.\n",
      "Time:                        15:10:08   Pearson chi2:                 1.38e+04\n",
      "No. Iterations:                    16                                         \n",
      "Covariance Type:            nonrobust                                         \n",
      "=============================================================================================\n",
      "                                coef    std err          z      P>|z|      [0.025      0.975]\n",
      "---------------------------------------------------------------------------------------------\n",
      "Intercept                    -0.1940      0.004    -51.858      0.000      -0.201      -0.187\n",
      "day_type[T.Weekend]          -0.0265      0.002    -16.671      0.000      -0.030      -0.023\n",
      "passenger_count               0.0021      0.000      5.190      0.000       0.001       0.003\n",
      "fare_amount                   0.1037      0.001     99.336      0.000       0.102       0.106\n",
      "trip_distance                 0.1766      0.002     74.752      0.000       0.172       0.181\n",
      "fare_amount:trip_distance    -0.0091   5.76e-05   -158.627      0.000      -0.009      -0.009\n",
      "time_duration                -0.0090      0.000    -21.239      0.000      -0.010      -0.008\n",
      "mph                          -0.0098      0.000    -40.804      0.000      -0.010      -0.009\n",
      "SNOW                          0.0034      0.000      7.259      0.000       0.002       0.004\n",
      "SNWD                          0.0009      0.000      2.758      0.006       0.000       0.001\n",
      "=============================================================================================\n"
     ]
    }
   ],
   "source": [
    "fitter_interaction_ga = glm(formula=\"tip_amount ~ passenger_count + fare_amount*trip_distance + time_duration + day_type + mph + SNOW + SNWD\",\n",
    "         data=train_data, family=families.Gamma(link=families.links.log)).fit()\n",
    "\n",
    "print(fitter_interaction_ga.summary())"
   ]
  },
  {
   "cell_type": "code",
   "execution_count": 42,
   "metadata": {},
   "outputs": [
    {
     "data": {
      "text/plain": [
       "([323822.3126058157, 323817.1174058817, 298190.2633405799],\n",
       " [-2885155.359416485, -2885192.3890735316, -2886617.9638389926])"
      ]
     },
     "execution_count": 42,
     "metadata": {},
     "output_type": "execute_result"
    }
   ],
   "source": [
    "[fit_ga.aic, fitter_ga.aic,fitter_interaction_ga.aic], [fit_ga.bic, fitter_ga.bic,fitter_interaction_ga.bic]"
   ]
  },
  {
   "cell_type": "code",
   "execution_count": null,
   "metadata": {},
   "outputs": [],
   "source": []
  },
  {
   "cell_type": "markdown",
   "metadata": {},
   "source": [
    "#### Gaussian distribution with log link function"
   ]
  },
  {
   "cell_type": "code",
   "execution_count": 102,
   "metadata": {},
   "outputs": [
    {
     "name": "stdout",
     "output_type": "stream",
     "text": [
      "                 Generalized Linear Model Regression Results                  \n",
      "==============================================================================\n",
      "Dep. Variable:             tip_amount   No. Observations:               234413\n",
      "Model:                            GLM   Df Residuals:                   234400\n",
      "Model Family:                Gaussian   Df Model:                           12\n",
      "Link Function:                    log   Scale:                         0.32600\n",
      "Method:                          IRLS   Log-Likelihood:            -2.0124e+05\n",
      "Date:                Sun, 15 Aug 2021   Deviance:                       76414.\n",
      "Time:                        15:43:44   Pearson chi2:                 7.64e+04\n",
      "No. Iterations:                     9                                         \n",
      "Covariance Type:            nonrobust                                         \n",
      "=======================================================================================\n",
      "                          coef    std err          z      P>|z|      [0.025      0.975]\n",
      "---------------------------------------------------------------------------------------\n",
      "Intercept               0.1016      0.005     22.575      0.000       0.093       0.110\n",
      "day_type[T.Weekend]    -0.0214      0.002    -13.121      0.000      -0.025      -0.018\n",
      "WT[T.good]             -0.0003      0.001     -0.253      0.800      -0.003       0.002\n",
      "passenger_count         0.0019      0.000      5.028      0.000       0.001       0.003\n",
      "fare_amount             0.0543      0.001     83.387      0.000       0.053       0.056\n",
      "trip_distance           0.0049      0.001      3.567      0.000       0.002       0.008\n",
      "time_duration           0.0061      0.000     22.091      0.000       0.006       0.007\n",
      "mph                     0.0046      0.000     21.086      0.000       0.004       0.005\n",
      "AWND                   -0.0004      0.000     -1.519      0.129      -0.001       0.000\n",
      "PRCP                    0.0003      0.002      0.140      0.889      -0.003       0.004\n",
      "SNOW                    0.0015      0.001      2.820      0.005       0.000       0.003\n",
      "SNWD                    0.0010      0.000      3.170      0.002       0.000       0.002\n",
      "TAVG                -4.837e-05   5.94e-05     -0.814      0.416      -0.000    6.81e-05\n",
      "=======================================================================================\n"
     ]
    }
   ],
   "source": [
    "from statsmodels.api import families\n",
    "\n",
    "fit_gau = glm(formula=\"tip_amount ~ passenger_count + fare_amount + trip_distance + time_duration + day_type + mph + AWND + PRCP + SNOW + SNWD + TAVG + WT\",\n",
    "         data=train_data, family=families.Gaussian(link=families.links.log)).fit()\n",
    "\n",
    "print(fit_gau.summary())"
   ]
  },
  {
   "cell_type": "code",
   "execution_count": 103,
   "metadata": {},
   "outputs": [
    {
     "name": "stdout",
     "output_type": "stream",
     "text": [
      "                 Generalized Linear Model Regression Results                  \n",
      "==============================================================================\n",
      "Dep. Variable:             tip_amount   No. Observations:               234413\n",
      "Model:                            GLM   Df Residuals:                   234404\n",
      "Model Family:                Gaussian   Df Model:                            8\n",
      "Link Function:                    log   Scale:                         0.32600\n",
      "Method:                          IRLS   Log-Likelihood:            -2.0124e+05\n",
      "Date:                Sun, 15 Aug 2021   Deviance:                       76415.\n",
      "Time:                        15:44:06   Pearson chi2:                 7.64e+04\n",
      "No. Iterations:                     9                                         \n",
      "Covariance Type:            nonrobust                                         \n",
      "=======================================================================================\n",
      "                          coef    std err          z      P>|z|      [0.025      0.975]\n",
      "---------------------------------------------------------------------------------------\n",
      "Intercept               0.0972      0.003     33.406      0.000       0.092       0.103\n",
      "day_type[T.Weekend]    -0.0211      0.002    -13.326      0.000      -0.024      -0.018\n",
      "passenger_count         0.0019      0.000      5.018      0.000       0.001       0.003\n",
      "fare_amount             0.0543      0.001     83.417      0.000       0.053       0.056\n",
      "trip_distance           0.0049      0.001      3.546      0.000       0.002       0.008\n",
      "time_duration           0.0061      0.000     22.085      0.000       0.006       0.007\n",
      "mph                     0.0046      0.000     21.105      0.000       0.004       0.005\n",
      "SNOW                    0.0015      0.000      3.069      0.002       0.001       0.002\n",
      "SNWD                    0.0010      0.000      3.431      0.001       0.000       0.002\n",
      "=======================================================================================\n"
     ]
    }
   ],
   "source": [
    "fitter_gau = glm(formula=\"tip_amount ~ passenger_count + fare_amount + trip_distance + time_duration + day_type + mph + SNOW + SNWD\",\n",
    "         data=train_data, family=families.Gaussian(link=families.links.log)).fit()\n",
    "\n",
    "print(fitter_gau.summary())"
   ]
  },
  {
   "cell_type": "code",
   "execution_count": 104,
   "metadata": {},
   "outputs": [
    {
     "name": "stdout",
     "output_type": "stream",
     "text": [
      "                 Generalized Linear Model Regression Results                  \n",
      "==============================================================================\n",
      "Dep. Variable:             tip_amount   No. Observations:               234413\n",
      "Model:                            GLM   Df Residuals:                   234403\n",
      "Model Family:                Gaussian   Df Model:                            9\n",
      "Link Function:                    log   Scale:                         0.27761\n",
      "Method:                          IRLS   Log-Likelihood:            -1.8241e+05\n",
      "Date:                Sun, 15 Aug 2021   Deviance:                       65073.\n",
      "Time:                        15:44:08   Pearson chi2:                 6.51e+04\n",
      "No. Iterations:                     8                                         \n",
      "Covariance Type:            nonrobust                                         \n",
      "=============================================================================================\n",
      "                                coef    std err          z      P>|z|      [0.025      0.975]\n",
      "---------------------------------------------------------------------------------------------\n",
      "Intercept                    -0.0973      0.003    -32.361      0.000      -0.103      -0.091\n",
      "day_type[T.Weekend]          -0.0222      0.001    -15.309      0.000      -0.025      -0.019\n",
      "passenger_count               0.0022      0.000      6.076      0.000       0.001       0.003\n",
      "fare_amount                   0.0941      0.001    123.532      0.000       0.093       0.096\n",
      "trip_distance                 0.1713      0.002    105.096      0.000       0.168       0.174\n",
      "fare_amount:trip_distance    -0.0077   4.04e-05   -190.345      0.000      -0.008      -0.008\n",
      "time_duration                -0.0101      0.000    -30.492      0.000      -0.011      -0.009\n",
      "mph                          -0.0107      0.000    -45.074      0.000      -0.011      -0.010\n",
      "SNOW                          0.0016      0.000      3.538      0.000       0.001       0.002\n",
      "SNWD                          0.0007      0.000      2.655      0.008       0.000       0.001\n",
      "=============================================================================================\n"
     ]
    }
   ],
   "source": [
    "fitter_interaction_gau = glm(formula=\"tip_amount ~ passenger_count + fare_amount*trip_distance + time_duration + day_type + mph + SNOW + SNWD\",\n",
    "         data=train_data, family=families.Gaussian(link=families.links.log)).fit()\n",
    "\n",
    "print(fitter_interaction_gau.summary())"
   ]
  },
  {
   "cell_type": "code",
   "execution_count": 105,
   "metadata": {},
   "outputs": [
    {
     "data": {
      "text/plain": [
       "([402503.4996408033, 402497.9445318471, 364835.784116696],\n",
       " [-2821904.411553684, -2821953.073861032, -2833283.014375856])"
      ]
     },
     "execution_count": 105,
     "metadata": {},
     "output_type": "execute_result"
    }
   ],
   "source": [
    "[fit_gau.aic, fitter_gau.aic, fitter_interaction_gau.aic], [fit_gau.bic, fitter_gau.bic, fitter_interaction_gau.bic]"
   ]
  },
  {
   "cell_type": "code",
   "execution_count": null,
   "metadata": {},
   "outputs": [],
   "source": []
  },
  {
   "cell_type": "markdown",
   "metadata": {},
   "source": [
    "#### Compare three models "
   ]
  },
  {
   "cell_type": "code",
   "execution_count": 47,
   "metadata": {},
   "outputs": [
    {
     "data": {
      "text/html": [
       "<div>\n",
       "<style scoped>\n",
       "    .dataframe tbody tr th:only-of-type {\n",
       "        vertical-align: middle;\n",
       "    }\n",
       "\n",
       "    .dataframe tbody tr th {\n",
       "        vertical-align: top;\n",
       "    }\n",
       "\n",
       "    .dataframe thead th {\n",
       "        text-align: right;\n",
       "    }\n",
       "</style>\n",
       "<table border=\"1\" class=\"dataframe\">\n",
       "  <thead>\n",
       "    <tr style=\"text-align: right;\">\n",
       "      <th></th>\n",
       "      <th>passenger_count</th>\n",
       "      <th>total_amount</th>\n",
       "      <th>fare_amount</th>\n",
       "      <th>tip_amount</th>\n",
       "      <th>trip_distance</th>\n",
       "      <th>time_duration</th>\n",
       "      <th>day_type</th>\n",
       "      <th>mph</th>\n",
       "      <th>AWND</th>\n",
       "      <th>PRCP</th>\n",
       "      <th>SNOW</th>\n",
       "      <th>SNWD</th>\n",
       "      <th>TAVG</th>\n",
       "      <th>WT</th>\n",
       "    </tr>\n",
       "  </thead>\n",
       "  <tbody>\n",
       "    <tr>\n",
       "      <th>58598</th>\n",
       "      <td>1</td>\n",
       "      <td>8.30</td>\n",
       "      <td>6.0</td>\n",
       "      <td>1.50</td>\n",
       "      <td>0.90</td>\n",
       "      <td>6.5</td>\n",
       "      <td>Weekday</td>\n",
       "      <td>8.31</td>\n",
       "      <td>6.49</td>\n",
       "      <td>0.0</td>\n",
       "      <td>0.0</td>\n",
       "      <td>0.0</td>\n",
       "      <td>48.5</td>\n",
       "      <td>good</td>\n",
       "    </tr>\n",
       "    <tr>\n",
       "      <th>58599</th>\n",
       "      <td>3</td>\n",
       "      <td>32.16</td>\n",
       "      <td>25.5</td>\n",
       "      <td>5.36</td>\n",
       "      <td>7.59</td>\n",
       "      <td>28.6</td>\n",
       "      <td>Weekday</td>\n",
       "      <td>15.92</td>\n",
       "      <td>6.49</td>\n",
       "      <td>0.0</td>\n",
       "      <td>0.0</td>\n",
       "      <td>0.0</td>\n",
       "      <td>48.5</td>\n",
       "      <td>good</td>\n",
       "    </tr>\n",
       "    <tr>\n",
       "      <th>58600</th>\n",
       "      <td>1</td>\n",
       "      <td>8.75</td>\n",
       "      <td>6.0</td>\n",
       "      <td>1.45</td>\n",
       "      <td>0.80</td>\n",
       "      <td>5.7</td>\n",
       "      <td>Weekday</td>\n",
       "      <td>8.42</td>\n",
       "      <td>6.49</td>\n",
       "      <td>0.0</td>\n",
       "      <td>0.0</td>\n",
       "      <td>0.0</td>\n",
       "      <td>48.5</td>\n",
       "      <td>good</td>\n",
       "    </tr>\n",
       "    <tr>\n",
       "      <th>58601</th>\n",
       "      <td>1</td>\n",
       "      <td>10.55</td>\n",
       "      <td>8.0</td>\n",
       "      <td>1.75</td>\n",
       "      <td>1.40</td>\n",
       "      <td>9.3</td>\n",
       "      <td>Weekday</td>\n",
       "      <td>9.03</td>\n",
       "      <td>6.49</td>\n",
       "      <td>0.0</td>\n",
       "      <td>0.0</td>\n",
       "      <td>0.0</td>\n",
       "      <td>48.5</td>\n",
       "      <td>good</td>\n",
       "    </tr>\n",
       "    <tr>\n",
       "      <th>58602</th>\n",
       "      <td>1</td>\n",
       "      <td>9.60</td>\n",
       "      <td>7.0</td>\n",
       "      <td>1.80</td>\n",
       "      <td>1.20</td>\n",
       "      <td>6.7</td>\n",
       "      <td>Weekday</td>\n",
       "      <td>10.75</td>\n",
       "      <td>6.49</td>\n",
       "      <td>0.0</td>\n",
       "      <td>0.0</td>\n",
       "      <td>0.0</td>\n",
       "      <td>48.5</td>\n",
       "      <td>good</td>\n",
       "    </tr>\n",
       "  </tbody>\n",
       "</table>\n",
       "</div>"
      ],
      "text/plain": [
       "       passenger_count  total_amount  fare_amount  tip_amount  trip_distance  \\\n",
       "58598                1          8.30          6.0        1.50           0.90   \n",
       "58599                3         32.16         25.5        5.36           7.59   \n",
       "58600                1          8.75          6.0        1.45           0.80   \n",
       "58601                1         10.55          8.0        1.75           1.40   \n",
       "58602                1          9.60          7.0        1.80           1.20   \n",
       "\n",
       "       time_duration day_type    mph  AWND  PRCP  SNOW  SNWD  TAVG    WT  \n",
       "58598            6.5  Weekday   8.31  6.49   0.0   0.0   0.0  48.5  good  \n",
       "58599           28.6  Weekday  15.92  6.49   0.0   0.0   0.0  48.5  good  \n",
       "58600            5.7  Weekday   8.42  6.49   0.0   0.0   0.0  48.5  good  \n",
       "58601            9.3  Weekday   9.03  6.49   0.0   0.0   0.0  48.5  good  \n",
       "58602            6.7  Weekday  10.75  6.49   0.0   0.0   0.0  48.5  good  "
      ]
     },
     "execution_count": 47,
     "metadata": {},
     "output_type": "execute_result"
    }
   ],
   "source": [
    "test_data = pd.read_feather(\"../preprocessed_data/test_data\")\n",
    "\n",
    "test_data.tail()"
   ]
  },
  {
   "cell_type": "code",
   "execution_count": 48,
   "metadata": {},
   "outputs": [
    {
     "data": {
      "text/plain": [
       "0        6.84\n",
       "1        1.55\n",
       "2        4.26\n",
       "3        1.46\n",
       "4        4.95\n",
       "         ... \n",
       "58598    1.50\n",
       "58599    5.36\n",
       "58600    1.45\n",
       "58601    1.75\n",
       "58602    1.80\n",
       "Name: tip_amount, Length: 58603, dtype: float64"
      ]
     },
     "execution_count": 48,
     "metadata": {},
     "output_type": "execute_result"
    }
   ],
   "source": [
    "y_true = test_data['tip_amount']\n",
    "y_true"
   ]
  },
  {
   "cell_type": "code",
   "execution_count": 51,
   "metadata": {},
   "outputs": [],
   "source": [
    "from sklearn.metrics import mean_squared_error, r2_score"
   ]
  },
  {
   "cell_type": "markdown",
   "metadata": {},
   "source": [
    "- Inverse Gaussian"
   ]
  },
  {
   "cell_type": "code",
   "execution_count": 52,
   "metadata": {},
   "outputs": [
    {
     "data": {
      "text/plain": [
       "0        4.638585\n",
       "1        1.385961\n",
       "2        4.617698\n",
       "3        1.561883\n",
       "4        4.264561\n",
       "           ...   \n",
       "58598    1.480917\n",
       "58599    4.881410\n",
       "58600    1.470929\n",
       "58601    1.841618\n",
       "58602    1.649606\n",
       "Length: 58603, dtype: float64"
      ]
     },
     "execution_count": 52,
     "metadata": {},
     "output_type": "execute_result"
    }
   ],
   "source": [
    "y_pred_ig = fitter_interaction_ig.predict(test_data)\n",
    "y_pred_ig"
   ]
  },
  {
   "cell_type": "code",
   "execution_count": 53,
   "metadata": {},
   "outputs": [
    {
     "data": {
      "text/plain": [
       "0.7721945037586473"
      ]
     },
     "execution_count": 53,
     "metadata": {},
     "output_type": "execute_result"
    }
   ],
   "source": [
    "r2_score(y_true, y_pred_ig)"
   ]
  },
  {
   "cell_type": "code",
   "execution_count": 54,
   "metadata": {},
   "outputs": [
    {
     "data": {
      "text/plain": [
       "0.28578799032251595"
      ]
     },
     "execution_count": 54,
     "metadata": {},
     "output_type": "execute_result"
    }
   ],
   "source": [
    "mean_squared_error(y_true, y_pred_ig)"
   ]
  },
  {
   "cell_type": "markdown",
   "metadata": {},
   "source": [
    "- Gamma"
   ]
  },
  {
   "cell_type": "code",
   "execution_count": 55,
   "metadata": {},
   "outputs": [
    {
     "data": {
      "text/plain": [
       "0        4.704591\n",
       "1        1.401430\n",
       "2        4.648088\n",
       "3        1.559616\n",
       "4        4.237437\n",
       "           ...   \n",
       "58598    1.491582\n",
       "58599    5.022017\n",
       "58600    1.482627\n",
       "58601    1.840759\n",
       "58602    1.654356\n",
       "Length: 58603, dtype: float64"
      ]
     },
     "execution_count": 55,
     "metadata": {},
     "output_type": "execute_result"
    }
   ],
   "source": [
    "y_pred_ga = fitter_interaction_ga.predict(test_data)\n",
    "y_pred_ga"
   ]
  },
  {
   "cell_type": "code",
   "execution_count": 56,
   "metadata": {},
   "outputs": [
    {
     "data": {
      "text/plain": [
       "0.7783587853798"
      ]
     },
     "execution_count": 56,
     "metadata": {},
     "output_type": "execute_result"
    }
   ],
   "source": [
    "r2_score(y_true, y_pred_ga)"
   ]
  },
  {
   "cell_type": "code",
   "execution_count": 57,
   "metadata": {},
   "outputs": [
    {
     "data": {
      "text/plain": [
       "0.27805473679984943"
      ]
     },
     "execution_count": 57,
     "metadata": {},
     "output_type": "execute_result"
    }
   ],
   "source": [
    "mean_squared_error(y_true, y_pred_ga)"
   ]
  },
  {
   "cell_type": "markdown",
   "metadata": {},
   "source": [
    "- Gaussian"
   ]
  },
  {
   "cell_type": "code",
   "execution_count": 58,
   "metadata": {},
   "outputs": [
    {
     "data": {
      "text/plain": [
       "0        4.758257\n",
       "1        1.448450\n",
       "2        4.641298\n",
       "3        1.587699\n",
       "4        4.159433\n",
       "           ...   \n",
       "58598    1.532374\n",
       "58599    5.249694\n",
       "58600    1.523857\n",
       "58601    1.858654\n",
       "58602    1.683695\n",
       "Length: 58603, dtype: float64"
      ]
     },
     "execution_count": 58,
     "metadata": {},
     "output_type": "execute_result"
    }
   ],
   "source": [
    "y_pred_gau = fitter_interaction_gau.predict(test_data)\n",
    "y_pred_gau"
   ]
  },
  {
   "cell_type": "code",
   "execution_count": 59,
   "metadata": {},
   "outputs": [
    {
     "data": {
      "text/plain": [
       "0.7822147658389307"
      ]
     },
     "execution_count": 59,
     "metadata": {},
     "output_type": "execute_result"
    }
   ],
   "source": [
    "r2_score(y_true, y_pred_gau)"
   ]
  },
  {
   "cell_type": "code",
   "execution_count": 60,
   "metadata": {},
   "outputs": [
    {
     "data": {
      "text/plain": [
       "0.2732173078338235"
      ]
     },
     "execution_count": 60,
     "metadata": {},
     "output_type": "execute_result"
    }
   ],
   "source": [
    "mean_squared_error(y_true, y_pred_gau)"
   ]
  },
  {
   "cell_type": "code",
   "execution_count": null,
   "metadata": {},
   "outputs": [],
   "source": []
  },
  {
   "cell_type": "code",
   "execution_count": 61,
   "metadata": {},
   "outputs": [
    {
     "data": {
      "text/plain": [
       "Intercept                   -0.097284\n",
       "day_type[T.Weekend]         -0.022228\n",
       "passenger_count              0.002152\n",
       "fare_amount                  0.094077\n",
       "trip_distance                0.171277\n",
       "fare_amount:trip_distance   -0.007693\n",
       "time_duration               -0.010148\n",
       "mph                         -0.010729\n",
       "SNOW                         0.001582\n",
       "SNWD                         0.000730\n",
       "dtype: float64"
      ]
     },
     "execution_count": 61,
     "metadata": {},
     "output_type": "execute_result"
    }
   ],
   "source": [
    "fitter_interaction_gau.params"
   ]
  },
  {
   "cell_type": "code",
   "execution_count": 62,
   "metadata": {},
   "outputs": [
    {
     "data": {
      "text/html": [
       "<div>\n",
       "<style scoped>\n",
       "    .dataframe tbody tr th:only-of-type {\n",
       "        vertical-align: middle;\n",
       "    }\n",
       "\n",
       "    .dataframe tbody tr th {\n",
       "        vertical-align: top;\n",
       "    }\n",
       "\n",
       "    .dataframe thead th {\n",
       "        text-align: right;\n",
       "    }\n",
       "</style>\n",
       "<table border=\"1\" class=\"dataframe\">\n",
       "  <thead>\n",
       "    <tr style=\"text-align: right;\">\n",
       "      <th></th>\n",
       "      <th>0</th>\n",
       "      <th>1</th>\n",
       "    </tr>\n",
       "  </thead>\n",
       "  <tbody>\n",
       "    <tr>\n",
       "      <th>Intercept</th>\n",
       "      <td>-0.103176</td>\n",
       "      <td>-0.091392</td>\n",
       "    </tr>\n",
       "    <tr>\n",
       "      <th>day_type[T.Weekend]</th>\n",
       "      <td>-0.025074</td>\n",
       "      <td>-0.019382</td>\n",
       "    </tr>\n",
       "    <tr>\n",
       "      <th>passenger_count</th>\n",
       "      <td>0.001458</td>\n",
       "      <td>0.002847</td>\n",
       "    </tr>\n",
       "    <tr>\n",
       "      <th>fare_amount</th>\n",
       "      <td>0.092585</td>\n",
       "      <td>0.095570</td>\n",
       "    </tr>\n",
       "    <tr>\n",
       "      <th>trip_distance</th>\n",
       "      <td>0.168083</td>\n",
       "      <td>0.174471</td>\n",
       "    </tr>\n",
       "    <tr>\n",
       "      <th>fare_amount:trip_distance</th>\n",
       "      <td>-0.007772</td>\n",
       "      <td>-0.007614</td>\n",
       "    </tr>\n",
       "    <tr>\n",
       "      <th>time_duration</th>\n",
       "      <td>-0.010801</td>\n",
       "      <td>-0.009496</td>\n",
       "    </tr>\n",
       "    <tr>\n",
       "      <th>mph</th>\n",
       "      <td>-0.011196</td>\n",
       "      <td>-0.010263</td>\n",
       "    </tr>\n",
       "    <tr>\n",
       "      <th>SNOW</th>\n",
       "      <td>0.000706</td>\n",
       "      <td>0.002458</td>\n",
       "    </tr>\n",
       "    <tr>\n",
       "      <th>SNWD</th>\n",
       "      <td>0.000191</td>\n",
       "      <td>0.001269</td>\n",
       "    </tr>\n",
       "  </tbody>\n",
       "</table>\n",
       "</div>"
      ],
      "text/plain": [
       "                                  0         1\n",
       "Intercept                 -0.103176 -0.091392\n",
       "day_type[T.Weekend]       -0.025074 -0.019382\n",
       "passenger_count            0.001458  0.002847\n",
       "fare_amount                0.092585  0.095570\n",
       "trip_distance              0.168083  0.174471\n",
       "fare_amount:trip_distance -0.007772 -0.007614\n",
       "time_duration             -0.010801 -0.009496\n",
       "mph                       -0.011196 -0.010263\n",
       "SNOW                       0.000706  0.002458\n",
       "SNWD                       0.000191  0.001269"
      ]
     },
     "execution_count": 62,
     "metadata": {},
     "output_type": "execute_result"
    }
   ],
   "source": [
    "fitter_interaction_gau.conf_int()"
   ]
  },
  {
   "cell_type": "code",
   "execution_count": null,
   "metadata": {},
   "outputs": [],
   "source": []
  },
  {
   "cell_type": "markdown",
   "metadata": {},
   "source": [
    "### Predict the future data"
   ]
  },
  {
   "cell_type": "code",
   "execution_count": 116,
   "metadata": {},
   "outputs": [],
   "source": [
    "future_data = pd.read_feather(\"../preprocessed_data/yellow_tripdata_2019-1-2-3_standard_no_outliers\")\n",
    "\n",
    "future_data = future_data.rename(columns={'mile/hour': 'mph'})"
   ]
  },
  {
   "cell_type": "code",
   "execution_count": 117,
   "metadata": {},
   "outputs": [
    {
     "data": {
      "text/plain": [
       "0           1.65\n",
       "1           1.25\n",
       "2           3.70\n",
       "3           1.70\n",
       "4           3.25\n",
       "            ... \n",
       "12214163    1.96\n",
       "12214164    5.36\n",
       "12214165    1.66\n",
       "12214166    2.79\n",
       "12214167    2.33\n",
       "Name: tip_amount, Length: 12214168, dtype: float64"
      ]
     },
     "execution_count": 117,
     "metadata": {},
     "output_type": "execute_result"
    }
   ],
   "source": [
    "y_true_future = future_data['tip_amount']\n",
    "y_true_future"
   ]
  },
  {
   "cell_type": "code",
   "execution_count": 106,
   "metadata": {},
   "outputs": [
    {
     "data": {
      "text/plain": [
       "0           1.694631\n",
       "1           1.623790\n",
       "2           3.038192\n",
       "3           2.251262\n",
       "4           3.199275\n",
       "              ...   \n",
       "12214163    1.451430\n",
       "12214164    4.897935\n",
       "12214165    1.263742\n",
       "12214166    1.389647\n",
       "12214167    1.427267\n",
       "Length: 12214168, dtype: float64"
      ]
     },
     "execution_count": 106,
     "metadata": {},
     "output_type": "execute_result"
    }
   ],
   "source": [
    "y_pred_gaussian = fitter_interaction_gau.predict(future_data)\n",
    "y_pred_gaussian"
   ]
  },
  {
   "cell_type": "code",
   "execution_count": 114,
   "metadata": {},
   "outputs": [
    {
     "data": {
      "text/plain": [
       "0.670101429794411"
      ]
     },
     "execution_count": 114,
     "metadata": {},
     "output_type": "execute_result"
    }
   ],
   "source": [
    "r2_score(y_true_future, y_pred_gau)"
   ]
  },
  {
   "cell_type": "code",
   "execution_count": 119,
   "metadata": {},
   "outputs": [
    {
     "data": {
      "text/plain": [
       "0.4344898022472394"
      ]
     },
     "execution_count": 119,
     "metadata": {},
     "output_type": "execute_result"
    }
   ],
   "source": [
    "mean_squared_error(y_true_future, y_pred_gau)"
   ]
  }
 ],
 "metadata": {
  "kernelspec": {
   "display_name": "Python 3 (Anaconda 3)",
   "language": "python",
   "name": "python3"
  },
  "language_info": {
   "codemirror_mode": {
    "name": "ipython",
    "version": 3
   },
   "file_extension": ".py",
   "mimetype": "text/x-python",
   "name": "python",
   "nbconvert_exporter": "python",
   "pygments_lexer": "ipython3",
   "version": "3.8.2"
  }
 },
 "nbformat": 4,
 "nbformat_minor": 4
}
